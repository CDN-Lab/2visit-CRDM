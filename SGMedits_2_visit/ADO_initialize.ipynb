{
 "cells": [
  {
   "cell_type": "markdown",
   "metadata": {
    "id": "nvwRKCexOqMI"
   },
   "source": [
    "# 0. Import the relevant packages"
   ]
  },
  {
   "cell_type": "code",
   "execution_count": 16,
   "metadata": {
    "executionInfo": {
     "elapsed": 268,
     "status": "ok",
     "timestamp": 1689258762241,
     "user": {
      "displayName": "Santiago Guardo",
      "userId": "11450914326493335688"
     },
     "user_tz": 240
    },
    "id": "5pA17ATgOvii"
   },
   "outputs": [],
   "source": [
    "import pandas as pd\n",
    "import os"
   ]
  },
  {
   "cell_type": "markdown",
   "metadata": {
    "id": "uvtjJdvdEzjy"
   },
   "source": [
    "#1. Input the participant's session id and retrieve the parameters"
   ]
  },
  {
   "cell_type": "markdown",
   "metadata": {
    "id": "ym-4rYokA-7k"
   },
   "source": [
    "#3. Creating the choice set\n",
    "From   \n",
    "![image.png](https://cdn.jamanetwork.com/ama/content_public/journal/psych/938422/m_yoi190087ea.png?Expires=1691689740&Signature=OvJ06Ayrw5fJLEycmRUj9I6GyITQwp89ZN5rVQDOm8dU1z6ZvhwNCwFV8yKnBDDEgxFqnaUQWgV7viAKHn5NpRdiVPo-Rgc8kjwYTn-0dnbudBGSoeVtaw8gTSIUiLLnWWVj2sPafVJA9NhK3bivpgCt2RLxI2UJRYUuNUmrrx1CFwyJTKYPlljeVSSEZ3Iwc9dNmvZ4p71MmTQSt8a9KcXSmZ0r0IZhQ187TDnqEFIiAN3mv9A7snMUAnhROj0Fg1p5COdoTVA9Z3RVNw8AT8QgJNSKl44244OjAauQwcnETbDdh2NPeCv4NGXYVclFTopaMriRPqUO4y-QPdDQjw__&Key-Pair-Id=APKAIE5G5CRDK6RD3PGA)\n",
    "\n",
    "We now have all the elements to calculate subjective value.\n"
   ]
  },
  {
   "cell_type": "code",
   "execution_count": 17,
   "metadata": {},
   "outputs": [
    {
     "name": "stdout",
     "output_type": "stream",
     "text": [
      "     Unnamed: 0  trial  response  mean_alpha  mean_beta  mean_gamma  sd_alpha  \\\n",
      "199         199    200         0    0.898659  -2.484802    0.504481  0.020014   \n",
      "\n",
      "      sd_beta  sd_gamma  p_null  p_reward  value_null  value_reward  amb_level  \n",
      "199  0.220821   0.07967     1.0       0.5         5.0           5.0       0.74  \n",
      "0.8986588674223884 -2.484802188787252 0.5044811271571049 0.5 5.0 0.74\n"
     ]
    }
   ],
   "source": [
    "ado_out_fn = '/Volumes/UCDN/datasets/IDM/utility/_ado/ADO_crdm_simulation.csv'\n",
    "ado_out_df = pd.read_csv(ado_out_fn)\n",
    "ado_last_row = ado_out_df.iloc[[-1]] \n",
    "print(ado_last_row)\n",
    "ado_alpha,ado_beta,ado_gamma,ado_prob,ado_value,ado_amb = ado_last_row[['mean_alpha','mean_beta','mean_gamma','p_reward','value_reward','amb_level']].values[0]\n",
    "print(ado_alpha,ado_beta,ado_gamma,ado_prob,ado_value,ado_amb)"
   ]
  },
  {
   "cell_type": "code",
   "execution_count": 18,
   "metadata": {},
   "outputs": [
    {
     "name": "stdout",
     "output_type": "stream",
     "text": [
      "   crdm_lott_amt  crdm_lott_p  crdm_amb_lev     alpha      beta     gamma\n",
      "0            5.0          0.5          0.74  0.898659 -2.484802  0.504481\n"
     ]
    }
   ],
   "source": [
    "cols = ['crdm_lott_amt', 'crdm_lott_p', 'crdm_amb_lev', 'alpha', 'beta', 'gamma']\n",
    "\n",
    "df_indif = pd.DataFrame([[ado_value, ado_prob, ado_amb, ado_alpha, ado_beta, ado_gamma]], columns= cols)\n",
    "print(df_indif)\n",
    "ADO_input = 'csv/ADO_input.csv'\n",
    "df_indif.to_csv(ADO_input)"
   ]
  }
 ],
 "metadata": {
  "colab": {
   "authorship_tag": "ABX9TyNsM7DfrVfVIssbBpHNb4hF",
   "provenance": [
    {
     "file_id": "1JnEr84Sea-WFZsJApNPM209ym2sBaB0T",
     "timestamp": 1688409014729
    }
   ]
  },
  "kernelspec": {
   "display_name": "Python 3",
   "language": "python",
   "name": "python3"
  },
  "language_info": {
   "codemirror_mode": {
    "name": "ipython",
    "version": 3
   },
   "file_extension": ".py",
   "mimetype": "text/x-python",
   "name": "python",
   "nbconvert_exporter": "python",
   "pygments_lexer": "ipython3",
   "version": "3.9.17"
  },
  "vscode": {
   "interpreter": {
    "hash": "8217df094c15840ab0a75dca1e7a3567e85bef39404f33b20dcb3bb363dda79b"
   }
  }
 },
 "nbformat": 4,
 "nbformat_minor": 1
}
