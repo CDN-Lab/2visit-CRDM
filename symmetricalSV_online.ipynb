{
 "cells": [
  {
   "cell_type": "markdown",
   "metadata": {},
   "source": [
    "# Symmetrical choiceset:\n",
    "\n",
    "We want to symmetrically sample both sides of the subjective equality point. \n",
    "That means having equal amount of trials in each side of the SV difference. \n",
    "\n",
    "This version of the code doesn't use python external libraries. The reason is to optimize the code to make it compatible with online based tasks that use Js. "
   ]
  },
  {
   "cell_type": "markdown",
   "metadata": {},
   "source": [
    "JS script data types we are going to use:\n",
    "- Arrays: written with square brackets. Items are separated by commas. This is analogous to python lists. \n",
    "\n",
    "    ``` const cars = [\"Saab\", \"Volvo\", \"BMW\"]; ```\n",
    "- Objects: JavaScript objects are written with curly braces {}.\n",
    "\n",
    "Object properties are written as name:value pairs, separated by commas.\n",
    "\n",
    "This is analogous to python dictionaries. I intend to use them to create the desired choicet. \n",
    "\n",
    "        const person = {firstName:\"John\", lastName:\"Doe\",  age:50, eyeColor:\"blue\"}"
   ]
  },
  {
   "cell_type": "code",
   "execution_count": 341,
   "metadata": {},
   "outputs": [],
   "source": [
    "import csv #This is the only library I will use. However, it is built in python. \n",
    "post_mean_gain = [0.45456, 1.0343]\n",
    "post_mean_loss = [0.896596, -0.765]\n"
   ]
  },
  {
   "cell_type": "markdown",
   "metadata": {},
   "source": [
    "The idea is to create an output CSV without using pandas :(\n",
    "    We are going to do this by using lists and dicitonaries. The idea is to creaate the trials as lists of dictionries\n",
    "\n",
    "With that, we can create the CSV at the end\n",
    "```\n",
    "Trials = \n",
    "{'category': ['Zero_Reward',  'Zero_Reward',..., 'Int_neg', 'Int_neg','Int_neg'],\n",
    " 'p_reward': [0.75, 0.5,0.38, 0.25, 0.13, ..., 0.75 0.5, 0.38,0.25,0.13],\n",
    " 'value_reward': [-0.0,  -5.71, ..., -22.453 , -34.884],\n",
    " 'ambiguity': [0.0, 0.0,0.0  0.24, 0.5, 0.74, 0.0, 0.0],\n",
    " 'SV_reward': [0.0, -5.551115123125783e-17, -1.813, -3.62, -2.222, -4.532],\n",
    " 'SV_New_Safe': [-2.719, -1.8130],\n",
    " 'value_lott_SE': [-12.723, -12.723, -12.72,\n",
    "  'value_safe': [-7.20, -0.226,  -2.995, -2.7-2.51]\n",
    " }\n",
    "```"
   ]
  },
  {
   "cell_type": "markdown",
   "metadata": {},
   "source": [
    "# 1. Input: ADO parameters"
   ]
  },
  {
   "cell_type": "code",
   "execution_count": 342,
   "metadata": {},
   "outputs": [],
   "source": [
    "alpha_pos, beta_pos = post_mean_gain[0], post_mean_gain[1] #parameters for gains\n",
    "alpha_neg, beta_neg = post_mean_loss[0], post_mean_loss[1] #parameters for losses"
   ]
  },
  {
   "cell_type": "code",
   "execution_count": 343,
   "metadata": {},
   "outputs": [],
   "source": [
    "#Declare the variables\n",
    "p_options = [0.75, 0.5, 0.38, 0.25, 0.13]\n",
    "amb_options = [0.24, 0.5, 0.74]\n",
    "A_null = 0.0 # no ambiguity\n",
    "Vmax = 50.0 #The maximum amount we can pay to participants\n",
    "Vmin = -50.0 #The minimum amount we can take from participants\n",
    "Vsafe_pos = 5.0 # The old safe option in positive trials\n",
    "Vsafe_neg = -5.0 # The old safe option in negative trials\n",
    "\n",
    "#First, we create an empty dictionary that we will populate with the trials info. \n",
    "\n",
    "empty_trials = [{ #An indivual trial consists of the values with the same index in the different lists\n",
    "  'category': [],\n",
    "  'p_reward': [],\n",
    "  'value_lottery': [],\n",
    "  'ambiguity': [],\n",
    "  'SV_lottery':[],\n",
    "  'value_safe': [],\n",
    "  'SV_safe': []\n",
    "}]"
   ]
  },
  {
   "cell_type": "code",
   "execution_count": 349,
   "metadata": {},
   "outputs": [],
   "source": [
    "##FUNCTIONS\n",
    "\n",
    "#Create the extreme positive gains and losses\n",
    "def get_extr_rows(p_options, domain='gain'):\n",
    "    \"\"\"\n",
    "    Inputs:\n",
    "        - p_options = list of probability values (float)\n",
    "    Output:\n",
    "        - dictionaries of lists containing the maximum gain or loss. With empty keys that we will populate later on with SV and Vsafw\n",
    "    \"\"\"\n",
    "    extr = empty_trials.copy()\n",
    "    category = 'Extr_pos' if domain == 'gain' else 'Extr_neg'\n",
    "    V=[Vmax] * len(p_options) #A list of values with the same length as our p_options\n",
    "    if domain == 'loss':\n",
    "            V = [Vmin] * len(p_options)\n",
    "    extr = {\n",
    "            'category': [category]*len(p_options),\n",
    "            'p_reward': [p for p in p_options] ,\n",
    "            'value_lottery': V,\n",
    "            'ambiguity': [0.0]*len(p_options),\n",
    "            \n",
    "        }\n",
    "    return extr\n",
    "\n",
    "#Add ambiguity\n",
    "def add_ambig(trials,prob_amb=0.50):\n",
    "    \"\"\"\n",
    "    Inputs:\n",
    "        - trials dictionary\n",
    "        - amb_options = list of possible ambiguity values\n",
    "    Output:\n",
    "        - initial trials dictionary with new ambiguity trials\n",
    "    \"\"\"\n",
    "    V = [trials['value_lottery'][0]]*len(amb_options)\n",
    "    amb_trials = {\n",
    "            'p_reward': [prob_amb]*len(amb_options),\n",
    "            'value_lottery': V,\n",
    "            'ambiguity': [a for a in amb_options],\n",
    "        }\n",
    "    final_dict = {k: trials[k] + amb_trials[k] for k in set(trials) & set(amb_trials)}\n",
    "    final_dict['category'] = [trials['category'][0]]*len(final_dict['value_lottery'][:])\n",
    "    return final_dict\n",
    "\n",
    "#Add Subjective value given participant's alpha and beta\n",
    "def add_SV(trials, alpha, beta, domain='gain'):\n",
    "    \"\"\"\n",
    "    Inputs:\n",
    "        - trials dictionary\n",
    "        - Model parameters\n",
    "    Output:\n",
    "        - trials dictionary with subjective value \n",
    "    \"\"\"\n",
    "    Amp = 1.0\n",
    "    if domain == 'loss':\n",
    "          Amp = -1.0\n",
    "    trials['SV_lott'] = [(p -(beta*A/2)) * (Amp*abs(v) ** alpha) for p, v, A \n",
    "                         in zip(trials['p_reward'], trials['value_lottery'], trials['ambiguity'])] #This ZIP method is going to be a PIA in JS. However, I think we can emulate it in JS from scratch \n",
    "    return trials  \n",
    "\n",
    "# Add Vsafe and its subjective value     \n",
    "def add_Vsafe(trials, alpha,beta, domain = 'gain'):\n",
    "    \"\"\"\n",
    "     This function creates appends the new values of safe options to the Extreme reward or loss dictionary. The subjective value of the safe is half of that \n",
    "     of the maximum gain or loss SVnew_safe = 0.5*SV_max for each probability.\n",
    "     Inputs:\n",
    "        - trials dictionary\n",
    "        - Model parameters\n",
    "    Output:\n",
    "        - Appeneded New safe options to extreme trials\n",
    "        - SV of SE trials\n",
    "    \"\"\" \n",
    "    Amp = 1.0 \n",
    "    if domain == 'loss':\n",
    "        Amp = -1.0\n",
    "    trials['SV_new_safe'] = [sv/2 for sv in trials['SV_lott']]\n",
    "    trials['value_safe'] = [Amp*(abs(sv))**(1/alpha) for sv in trials['SV_new_safe']]\n",
    "    return trials\n",
    "\n",
    "def get_safe_trials (extr, alpha, beta, domain = 'gain'):\n",
    "    \"\"\"\n",
    "    This function creates new values of safe options whose subjective value is half of that \n",
    "    of the maximum gain or loss SVnew_safe = 0.5*SV_max for each probability. That SV is going to be the SV of subjective equality \n",
    "\n",
    "    Inputs:\n",
    "        - Extreme trials dictionary\n",
    "        - Model parameters\n",
    "    Output:\n",
    "        - New safe options\n",
    "        - SV of SE trials\n",
    "    \"\"\"\n",
    "    safe_options = {}\n",
    "    Amp = 1.0 \n",
    "    if domain == 'loss':\n",
    "        Amp = -1.0\n",
    "    safe_options['p_reward'] = [p for p in extr['p_reward']]\n",
    "    safe_options['ambiguity'] = [a for a in extr['ambiguity']]\n",
    "    safe_options['SV_SE'] = [sv/2 for sv in extr['SV_lott']]\n",
    "    safe_options['value_safe'] = [Amp*(abs(sv))**(1/alpha) for sv in safe_options['SV_SE']]\n",
    "    return safe_options \n",
    "     \n",
    "def get_SE_trials (trials, alpha, beta, domain = 'gains'):\n",
    "    '''     \n",
    "     Creates trials around the point of subjective equality\n",
    "\n",
    "     Inputs:\n",
    "     -Empty trials dictionary\n",
    "     -Model Parameters \n",
    "    '''\n",
    "    SE_trials = {}\n",
    "    SE_trials['category'] = ['SE_pos']*len(trials['SV_new_safe'])\n",
    "    Amp = 1.0 \n",
    "    if domain == 'loss':\n",
    "        Amp = -1.0\n",
    "        SE_trials['category'] = ['SE_neg']*len(trials['SV_new_safe'])    \n",
    "    SE_trials['p_reward'] = [p for p in trials['p_reward']]\n",
    "    SE_trials['ambiguity'] = [a for a in trials['ambiguity']]\n",
    "    SE_trials['SV_lottery'] = [sv/2 for sv in trials['SV_lott']]\n",
    "    SE_trials['value_safe'] = [Amp*(abs(sv))**(1/alpha) for sv in trials['SV_new_safe']]\n",
    "    SE_trials['value_lottery'] = [(Amp*(abs(sv)/((p) - (beta*A/2)))**(1/alpha)) for sv, p, A\n",
    "                                  in zip(trials['SV_new_safe'], trials['p_reward'], trials['ambiguity'])]\n",
    "    \n",
    "    \n",
    "    return SE_trials\n",
    "\n",
    "def get_cent_SE_trials(SE_trials):\n",
    "     cent_SE= empty_trials.copy()\n",
    "     \n",
    "     SE = {key: SE_trials[key] for key in ['p_reward', 'ambiguity', 'value_safe', 'value_lottery']}\n",
    "     cent_SE_trial_plus2 = {key: SE_trials[key] for key in ['p_reward', 'ambiguity', 'value_safe', 'value_lottery']}\n",
    "     cent_SE_trial_plus2['value_lottery'] = [value_lottery + 2.0 for value_lottery in cent_SE_trial_plus2['value_lottery']]\n",
    "\n",
    "     cent_SE_trial_minus2 = {key: SE_trials[key] for key in ['p_reward', 'ambiguity', 'value_safe', 'value_lottery']}\n",
    "     cent_SE_trial_minus2['value_lottery'] = [value_lottery - 2.0 for value_lottery in cent_SE_trial_minus2['value_lottery']]\n",
    "    # Concatenate the modified 'value_lottery' lists to the original one\n",
    "     cent_SE['value_lottery'] += SE['value_lottery'] + cent_SE_trial_plus2['value_lottery'] + cent_SE_trial_minus2['value_lottery']\n",
    "     cent_SE['p_reward'] = 3*[p for p in p_options]\n",
    "     return cent_SE\n"
   ]
  },
  {
   "cell_type": "code",
   "execution_count": 352,
   "metadata": {},
   "outputs": [
    {
     "data": {
      "text/plain": [
       "{'p_reward': [0.75, 0.5, 0.38, 0.25, 0.13, 0.5, 0.5, 0.5],\n",
       " 'ambiguity': [0.0, 0.0, 0.0, 0.0, 0.0, 0.24, 0.5, 0.74],\n",
       " 'value_safe': [5.779214056024037,\n",
       "  2.3685382742811,\n",
       "  1.2950266345451085,\n",
       "  0.5155082363421659,\n",
       "  0.12231027909596252,\n",
       "  1.2643682118988953,\n",
       "  0.47740788166001397,\n",
       "  0.09757075252551307],\n",
       " 'value_lottery': [10.882413046473419,\n",
       "  10.882413046473422,\n",
       "  10.882413046473422,\n",
       "  10.882413046473422,\n",
       "  10.882413046473422,\n",
       "  10.882413046473422,\n",
       "  10.882413046473422,\n",
       "  10.882413046473422]}"
      ]
     },
     "execution_count": 352,
     "metadata": {},
     "output_type": "execute_result"
    }
   ],
   "source": [
    "SE_pos\n",
    "SE = {key: SE_pos[key] for key in ['p_reward', 'ambiguity', 'value_safe', 'value_lottery']}\n",
    "SE"
   ]
  },
  {
   "cell_type": "code",
   "execution_count": 345,
   "metadata": {},
   "outputs": [
    {
     "ename": "TypeError",
     "evalue": "list indices must be integers or slices, not str",
     "output_type": "error",
     "traceback": [
      "\u001b[0;31m---------------------------------------------------------------------------\u001b[0m",
      "\u001b[0;31mTypeError\u001b[0m                                 Traceback (most recent call last)",
      "Cell \u001b[0;32mIn[345], line 10\u001b[0m\n\u001b[1;32m      8\u001b[0m \u001b[39m#Subjective equality trials\u001b[39;00m\n\u001b[1;32m      9\u001b[0m SE_pos \u001b[39m=\u001b[39m get_SE_trials(rows_extr_pos,alpha_pos,beta_pos)\n\u001b[0;32m---> 10\u001b[0m cent_pos \u001b[39m=\u001b[39m get_cent_SE_trials(SE_pos)\n\u001b[1;32m     11\u001b[0m cent_pos\n",
      "Cell \u001b[0;32mIn[344], line 135\u001b[0m, in \u001b[0;36mget_cent_SE_trials\u001b[0;34m(SE_trials)\u001b[0m\n\u001b[1;32m    133\u001b[0m  cent_SE_trial_minus2[\u001b[39m'\u001b[39m\u001b[39mvalue_lottery\u001b[39m\u001b[39m'\u001b[39m] \u001b[39m=\u001b[39m [value_lottery \u001b[39m-\u001b[39m \u001b[39m2.0\u001b[39m \u001b[39mfor\u001b[39;00m value_lottery \u001b[39min\u001b[39;00m cent_SE_trial_minus2[\u001b[39m'\u001b[39m\u001b[39mvalue_lottery\u001b[39m\u001b[39m'\u001b[39m]]\n\u001b[1;32m    134\u001b[0m \u001b[39m# Concatenate the modified 'value_lottery' lists to the original one\u001b[39;00m\n\u001b[0;32m--> 135\u001b[0m  cent_SE[\u001b[39m'\u001b[39m\u001b[39mvalue_lottery\u001b[39m\u001b[39m'\u001b[39m] \u001b[39m+\u001b[39m\u001b[39m=\u001b[39m SE[\u001b[39m'\u001b[39m\u001b[39mvalue_lottery\u001b[39m\u001b[39m'\u001b[39m] \u001b[39m+\u001b[39m cent_SE_trial_plus2[\u001b[39m'\u001b[39m\u001b[39mvalue_lottery\u001b[39m\u001b[39m'\u001b[39m] \u001b[39m+\u001b[39m cent_SE_trial_minus2[\u001b[39m'\u001b[39m\u001b[39mvalue_lottery\u001b[39m\u001b[39m'\u001b[39m]\n\u001b[1;32m    136\u001b[0m  \u001b[39m#cent_SE['p_reward'] = 3*[p for p in p_options]\u001b[39;00m\n\u001b[1;32m    137\u001b[0m  \u001b[39mreturn\u001b[39;00m cent_SE\n",
      "\u001b[0;31mTypeError\u001b[0m: list indices must be integers or slices, not str"
     ]
    }
   ],
   "source": [
    "##GAINS\n",
    "rows_extr_pos = get_extr_rows(p_options)\n",
    "rows_extr_pos = add_ambig(rows_extr_pos)\n",
    "rows_extr_pos = add_SV(rows_extr_pos, alpha_pos,beta_pos) \n",
    "rows_extr_pos = add_Vsafe(rows_extr_pos, alpha_pos,beta_pos)\n",
    "#Safe options dictionary.\n",
    "safe_pos = get_safe_trials(rows_extr_pos, alpha_pos, beta_pos)\n",
    "#Subjective equality trials\n",
    "SE_pos = get_SE_trials(rows_extr_pos,alpha_pos,beta_pos)\n",
    "cent_pos = get_cent_SE_trials(SE_pos)\n",
    "cent_pos"
   ]
  },
  {
   "cell_type": "code",
   "execution_count": 346,
   "metadata": {},
   "outputs": [
    {
     "data": {
      "text/plain": [
       "{'category': ['SE_neg',\n",
       "  'SE_neg',\n",
       "  'SE_neg',\n",
       "  'SE_neg',\n",
       "  'SE_neg',\n",
       "  'SE_neg',\n",
       "  'SE_neg',\n",
       "  'SE_neg'],\n",
       " 'p_reward': [0.75, 0.5, 0.38, 0.25, 0.13, 0.5, 0.5, 0.5],\n",
       " 'ambiguity': [0.0, 0.0, 0.0, 0.0, 0.0, 0.24, 0.5, 0.74],\n",
       " 'SV_lottery': [-12.511834114002957,\n",
       "  -8.341222742668638,\n",
       "  -6.339329284428165,\n",
       "  -4.170611371334319,\n",
       "  -2.168717913093846,\n",
       "  -9.8726712382226,\n",
       "  -11.531740441739393,\n",
       "  -13.063188937293354],\n",
       " 'value_safe': [-16.74458915384944,\n",
       "  -10.653068363412174,\n",
       "  -7.844090457454431,\n",
       "  -4.917304119496426,\n",
       "  -2.371249269370067,\n",
       "  -12.856488453231144,\n",
       "  -15.288423314523783,\n",
       "  -17.569631173420586],\n",
       " 'value_lottery': [-23.0792854779044,\n",
       "  -23.0792854779044,\n",
       "  -23.0792854779044,\n",
       "  -23.0792854779044,\n",
       "  -23.0792854779044,\n",
       "  -23.0792854779044,\n",
       "  -23.0792854779044,\n",
       "  -23.0792854779044]}"
      ]
     },
     "execution_count": 346,
     "metadata": {},
     "output_type": "execute_result"
    }
   ],
   "source": [
    "##LOSSES\n",
    "rows_extr_neg = get_extr_rows(p_options, domain = 'loss')\n",
    "rows_extr_neg = add_ambig(rows_extr_neg) \n",
    "rows_extr_neg = add_SV(rows_extr_neg, alpha_neg,beta_neg, domain = 'loss')\n",
    "rows_extr_neg = add_Vsafe(rows_extr_neg, alpha_neg,beta_neg)\n",
    "#Neg Safe options\n",
    "safe_neg = get_safe_trials(rows_extr_neg, alpha_neg, beta_neg, domain= 'loss')\n",
    "\n",
    "#Subjective equality trials\n",
    "SE_neg = get_SE_trials(rows_extr_neg, alpha_neg, beta_neg, domain='loss')\n",
    "SE_neg\n"
   ]
  },
  {
   "cell_type": "code",
   "execution_count": 347,
   "metadata": {},
   "outputs": [
    {
     "data": {
      "text/plain": [
       "{'value_lottery': [-21.0792854779044,\n",
       "  -21.0792854779044,\n",
       "  -21.0792854779044,\n",
       "  -21.0792854779044,\n",
       "  -21.0792854779044,\n",
       "  -21.0792854779044,\n",
       "  -21.0792854779044,\n",
       "  -21.0792854779044]}"
      ]
     },
     "execution_count": 347,
     "metadata": {},
     "output_type": "execute_result"
    }
   ],
   "source": [
    "x = {'value_lottery': [-23.0792854779044,\n",
    "  -23.0792854779044,\n",
    "  -23.0792854779044,\n",
    "  -23.0792854779044,\n",
    "  -23.0792854779044,\n",
    "  -23.0792854779044,\n",
    "  -23.0792854779044,\n",
    "  -23.0792854779044]}\n",
    "x['value_lottery'] = [value_lottery + 2.0 for value_lottery in x['value_lottery']]\n",
    "x"
   ]
  },
  {
   "cell_type": "markdown",
   "metadata": {},
   "source": [
    "# Output CSV"
   ]
  },
  {
   "cell_type": "code",
   "execution_count": 348,
   "metadata": {},
   "outputs": [],
   "source": [
    "# Extract column names from the keys of the first dictionary\n",
    "#fieldnames = crdm_trials[0].keys()\n",
    "\n",
    "# Define the name of the CSV file\n",
    "#csv_filename = 'crdm_trials.csv'\n",
    "\n",
    "# Write the data to the CSV file\n",
    "#with open(csv_filename, mode='w', newline='') as csv_file:\n",
    " #   writer = csv.DictWriter(csv_file, fieldnames=fieldnames)\n",
    "    \n",
    "    # Write the header row\n",
    "  #  writer.writeheader()\n",
    "    \n",
    "    # Write the data rows\n",
    "   # for row in crdm_trials:\n",
    "    #    writer.writerow(row)\n",
    "\n",
    "# print(f\"CSV file '{csv_filename}' has been created.\")"
   ]
  }
 ],
 "metadata": {
  "kernelspec": {
   "display_name": "idm_env",
   "language": "python",
   "name": "python3"
  },
  "language_info": {
   "codemirror_mode": {
    "name": "ipython",
    "version": 3
   },
   "file_extension": ".py",
   "mimetype": "text/x-python",
   "name": "python",
   "nbconvert_exporter": "python",
   "pygments_lexer": "ipython3",
   "version": "3.9.17"
  },
  "orig_nbformat": 4
 },
 "nbformat": 4,
 "nbformat_minor": 2
}
