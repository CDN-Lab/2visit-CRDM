{
 "cells": [
  {
   "cell_type": "markdown",
   "metadata": {},
   "source": [
    "# Symmetrical choiceset:\n",
    "\n",
    "We want to symmetrically sample both sides of the subjective equality point. \n",
    "That means having equal amount of trials in each side of the SV difference. \n",
    "\n",
    "This version of the code doesn't use python external libraries. The reason is to optimize the code to make it compatible with online based tasks that use Js. "
   ]
  },
  {
   "cell_type": "markdown",
   "metadata": {},
   "source": [
    "JS script data types we are going to use:\n",
    "- Arrays: written with square brackets. Items are separated by commas. This is analogous to python lists. \n",
    "\n",
    "    ``` const cars = [\"Saab\", \"Volvo\", \"BMW\"]; ```\n",
    "- Objects: JavaScript objects are written with curly braces {}.\n",
    "\n",
    "Object properties are written as name:value pairs, separated by commas.\n",
    "\n",
    "This is analogous to python dictionaries. I intend to use them to create the desired choicet. \n",
    "\n",
    "        const person = {firstName:\"John\", lastName:\"Doe\",  age:50, eyeColor:\"blue\"}"
   ]
  },
  {
   "cell_type": "code",
   "execution_count": 125,
   "metadata": {},
   "outputs": [],
   "source": [
    "import csv #This is the only library I will use. However, it is built in python. \n",
    "post_mean_gain = [0.45456, 1.0343]\n",
    "post_mean_loss = [0.896596, -0.765]"
   ]
  },
  {
   "cell_type": "markdown",
   "metadata": {},
   "source": [
    "The idea is to create an output CS without using pandas :( \n",
    "    We are going to do this by using lists and dicitonaries. The idea is to creaate the trials as lists of dictionries\n",
    "\n",
    "Trials = \n",
    "```  trials = \n",
    "[{'p_reward': 0.13,\n",
    "  'value_reward': 50.0,\n",
    "  'category': 'Extr_pos',\n",
    "  'ambiguity': 0.0,\n",
    "  'SV_reward': 0.7724887228000991,\n",
    "  'SV_New_Safe': 0.38624436140004953,\n",
    "  'value_lott_SE': 10.91817090852721,\n",
    "  'value_safe': 0.12390278661966936},\n",
    " {'p_reward': 0.25,\n",
    "  'value_reward': 50.0,\n",
    "  'category': 'Extr_pos',\n",
    "  'ambiguity': 0.0,\n",
    "  'SV_reward': 1.4855552361540365,\n",
    "  'SV_New_Safe': 0.7427776180770183,\n",
    "  'value_lott_SE': 10.91817090852721,\n",
    "  'value_safe': 0.5206065839498941},\n",
    " {'p_reward': 0.38,\n",
    "  'value_reward': 50.0,\n",
    "  'category': 'Extr_pos',\n",
    "  'ambiguity': 0.0,\n",
    "  'SV_reward': 2.2580439589541355,\n",
    "  'SV_New_Safe': 1.1290219794770677,\n",
    "  'value_lott_SE': 10.91817090852721,\n",
    "  'value_safe': 1.3052453010492082},\n",
    " {'p_reward': 0.5,\n",
    "...\n",
    "  'ambiguity': 0.0,\n",
    "  'SV_reward': 4.4566657084621095,\n",
    "  'SV_New_Safe': 2.2283328542310548,\n",
    "  'value_lott_SE': 10.91817090852721,\n",
    "  'value_safe': 5.806103319838627}]\n",
    "```\n",
    "With that, we can create the CSV at the end\n"
   ]
  },
  {
   "cell_type": "markdown",
   "metadata": {},
   "source": [
    "# 1. Input: ADO parameters"
   ]
  },
  {
   "cell_type": "code",
   "execution_count": 126,
   "metadata": {},
   "outputs": [],
   "source": [
    "alpha_pos, beta_pos = post_mean_gain[0], post_mean_gain[1] #parameters for gains\n",
    "alpha_neg, beta_neg = post_mean_loss[0], post_mean_loss[1] #parameters for losses"
   ]
  },
  {
   "cell_type": "code",
   "execution_count": 127,
   "metadata": {},
   "outputs": [],
   "source": [
    "#Declare the variables\n",
    "p_options = [0.75, 0.5, 0.38, 0.25, 0.13]\n",
    "amb_options = [0.24, 0.5, 0.74]\n",
    "A_null = 0.0 # no ambiguity\n",
    "Vmax = 50.0 #The maximum amount we can pay to participants\n",
    "Vmin = -50.0 #The minimum amount we can take from participants\n",
    "Vsafe_pos = 5.0 # The old safe option in positive trials\n",
    "Vsafe_neg = -5.0 # The old safe option in negative trials\n",
    "\n",
    "#First, we create an empty dictionary that we will populate with the trials info. \n",
    "empty_dict = {'p_reward': None,\n",
    "  'value_lottery': None,\n",
    "  'category': None,\n",
    "  'ambiguity': None,\n",
    "  'SV_lottery':None,\n",
    "  'value_safe': None,\n",
    "  'SV_safe': None\n",
    "  }"
   ]
  },
  {
   "cell_type": "code",
   "execution_count": 133,
   "metadata": {},
   "outputs": [
    {
     "name": "stdout",
     "output_type": "stream",
     "text": [
      "{0.5: [0.24, 0.5, 0.74]}\n"
     ]
    }
   ],
   "source": [
    "##FUNCTIONS##\n",
    "\n",
    "#Create the extreme positive gains and losses\n",
    "def get_extreme(p_options, \n",
    "                domain='gain'): \n",
    "    ###Obtains extreme gain/loss for each probability\n",
    "    \"\"\"\n",
    "    Inputs: \n",
    "        - p_options = list of probability values (float)\n",
    "    Output:\n",
    "        - dict containing highest possible gain or loss for each probability ($50 or -$50)\n",
    "    \"\"\"\n",
    "    extr = {}\n",
    "    V = Vmax #default gain domain (max gain)\n",
    "    if domain == 'loss': #loss domain \n",
    "        V = Vmin #assign min value (max loss)\n",
    "    for p in p_options: #iterate through probability levels\n",
    "        extr[p] = V  #assign max value (gain) or min value (loss) for each probability\n",
    "    return extr\n",
    "\n",
    "def add_ambig_ext(extrdict, amb_options, Vmax=50, prob_amb = 0.5, trials = 'gains'):\n",
    "    amb_dict = {prob_amb: amb_options}\n",
    "    print(amb_dict)\n",
    "\n",
    "add_ambig_ext(extrpos, amb_options)"
   ]
  },
  {
   "cell_type": "code",
   "execution_count": 136,
   "metadata": {},
   "outputs": [
    {
     "name": "stdout",
     "output_type": "stream",
     "text": [
      "{0.75: 50.0, 0.5: 50.0, 0.38: 50.0, 0.25: 50.0, 0.13: 50.0}\n"
     ]
    },
    {
     "data": {
      "text/plain": [
       "[{'p_reward': 0.75,\n",
       "  'value_reward': 50.0,\n",
       "  'category': 'Extr_pos',\n",
       "  'ambiguity': 0.0},\n",
       " {'p_reward': 0.5,\n",
       "  'value_reward': 50.0,\n",
       "  'category': 'Extr_pos',\n",
       "  'ambiguity': 0.0},\n",
       " {'p_reward': 0.38,\n",
       "  'value_reward': 50.0,\n",
       "  'category': 'Extr_pos',\n",
       "  'ambiguity': 0.0},\n",
       " {'p_reward': 0.25,\n",
       "  'value_reward': 50.0,\n",
       "  'category': 'Extr_pos',\n",
       "  'ambiguity': 0.0},\n",
       " {'p_reward': 0.13,\n",
       "  'value_reward': 50.0,\n",
       "  'category': 'Extr_pos',\n",
       "  'ambiguity': 0.0}]"
      ]
     },
     "execution_count": 136,
     "metadata": {},
     "output_type": "execute_result"
    }
   ],
   "source": [
    "##GAINS\n",
    "extrpos = empty_row.copy()\n",
    "extrpos = get_extreme(p_options)\n",
    "print(extrpos)\n",
    "def get_extr_rows(extr_dict, domain='gain'):\n",
    "    app = []\n",
    "    for p, value in extr_dict.items():\n",
    "        app.append({'p_reward': p, 'value_reward': value})\n",
    "    category = 'Extr_pos' if domain == 'gain' else 'Extr_neg'\n",
    "    for row in app:\n",
    "        row['category'] = category\n",
    "        row['ambiguity'] = A_null\n",
    "    return app\n",
    "\n",
    "rows_pos = get_extr_rows(extrpos)\n",
    "rows_pos\n"
   ]
  },
  {
   "cell_type": "code",
   "execution_count": 137,
   "metadata": {},
   "outputs": [
    {
     "name": "stdout",
     "output_type": "stream",
     "text": [
      "{0.75: -50.0, 0.5: -50.0, 0.38: -50.0, 0.25: -50.0, 0.13: -50.0}\n"
     ]
    },
    {
     "data": {
      "text/plain": [
       "[{'p_reward': 0.75,\n",
       "  'value_reward': -50.0,\n",
       "  'category': 'Extr_neg',\n",
       "  'ambiguity': 0.0},\n",
       " {'p_reward': 0.5,\n",
       "  'value_reward': -50.0,\n",
       "  'category': 'Extr_neg',\n",
       "  'ambiguity': 0.0},\n",
       " {'p_reward': 0.38,\n",
       "  'value_reward': -50.0,\n",
       "  'category': 'Extr_neg',\n",
       "  'ambiguity': 0.0},\n",
       " {'p_reward': 0.25,\n",
       "  'value_reward': -50.0,\n",
       "  'category': 'Extr_neg',\n",
       "  'ambiguity': 0.0},\n",
       " {'p_reward': 0.13,\n",
       "  'value_reward': -50.0,\n",
       "  'category': 'Extr_neg',\n",
       "  'ambiguity': 0.0}]"
      ]
     },
     "execution_count": 137,
     "metadata": {},
     "output_type": "execute_result"
    }
   ],
   "source": [
    "##LOSSES\n",
    "extrneg = empty_dict.copy()\n",
    "extrneg = get_extreme(p_options, domain ='loss')\n",
    "print(extrneg)\n",
    "\n",
    "rows_neg = get_extr_rows(extrneg, domain ='loss')\n",
    "rows_neg"
   ]
  },
  {
   "cell_type": "markdown",
   "metadata": {},
   "source": [
    "# Output CSV"
   ]
  },
  {
   "cell_type": "code",
   "execution_count": 139,
   "metadata": {},
   "outputs": [
    {
     "ename": "NameError",
     "evalue": "name 'trials' is not defined",
     "output_type": "error",
     "traceback": [
      "\u001b[0;31m---------------------------------------------------------------------------\u001b[0m",
      "\u001b[0;31mNameError\u001b[0m                                 Traceback (most recent call last)",
      "Cell \u001b[0;32mIn[139], line 2\u001b[0m\n\u001b[1;32m      1\u001b[0m \u001b[39m# Extract column names from the keys of the first dictionary\u001b[39;00m\n\u001b[0;32m----> 2\u001b[0m fieldnames \u001b[39m=\u001b[39m trials[\u001b[39m0\u001b[39m]\u001b[39m.\u001b[39mkeys()\n\u001b[1;32m      4\u001b[0m \u001b[39m# Define the name of the CSV file\u001b[39;00m\n\u001b[1;32m      5\u001b[0m csv_filename \u001b[39m=\u001b[39m \u001b[39m'\u001b[39m\u001b[39mdata.csv\u001b[39m\u001b[39m'\u001b[39m\n",
      "\u001b[0;31mNameError\u001b[0m: name 'trials' is not defined"
     ]
    }
   ],
   "source": [
    "# Extract column names from the keys of the first dictionary\n",
    "fieldnames = crdm_trials[0].keys()\n",
    "\n",
    "# Define the name of the CSV file\n",
    "csv_filename = 'crdm_trials.csv'\n",
    "\n",
    "# Write the data to the CSV file\n",
    "with open(csv_filename, mode='w', newline='') as csv_file:\n",
    "    writer = csv.DictWriter(csv_file, fieldnames=fieldnames)\n",
    "    \n",
    "    # Write the header row\n",
    "    writer.writeheader()\n",
    "    \n",
    "    # Write the data rows\n",
    "    for row in crdm_trials:\n",
    "        writer.writerow(row)\n",
    "\n",
    "print(f\"CSV file '{csv_filename}' has been created.\")"
   ]
  }
 ],
 "metadata": {
  "kernelspec": {
   "display_name": "idm_env",
   "language": "python",
   "name": "python3"
  },
  "language_info": {
   "codemirror_mode": {
    "name": "ipython",
    "version": 3
   },
   "file_extension": ".py",
   "mimetype": "text/x-python",
   "name": "python",
   "nbconvert_exporter": "python",
   "pygments_lexer": "ipython3",
   "version": "3.9.17"
  },
  "orig_nbformat": 4
 },
 "nbformat": 4,
 "nbformat_minor": 2
}
