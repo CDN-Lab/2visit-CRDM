{
 "cells": [
  {
   "cell_type": "markdown",
   "metadata": {},
   "source": [
    "# Symmetrical choiceset:\n",
    "\n",
    "We want to symmetrically sample both sides of the subjective equality point. \n",
    "That means having equal amount of trials in each side of the SV difference. \n",
    "\n",
    "This version of the code doesn't use python external libraries. The reason is to optimize the code to make it compatible with online based tasks that use Js. "
   ]
  },
  {
   "cell_type": "markdown",
   "metadata": {},
   "source": [
    "JS script data types we are going to use:\n",
    "- Arrays: written with square brackets. Items are separated by commas. This is analogous to python lists. \n",
    "\n",
    "    ``` const cars = [\"Saab\", \"Volvo\", \"BMW\"]; ```\n",
    "- Objects: JavaScript objects are written with curly braces {}.\n",
    "\n",
    "Object properties are written as name:value pairs, separated by commas.\n",
    "\n",
    "This is analogous to python dictionaries. I intend to use them to create the desired choicet. \n",
    "\n",
    "        const person = {firstName:\"John\", lastName:\"Doe\",  age:50, eyeColor:\"blue\"}"
   ]
  },
  {
   "cell_type": "code",
   "execution_count": 435,
   "metadata": {},
   "outputs": [],
   "source": [
    "import csv #This is the only library I will use. However, it is built in python. \n",
    "post_mean_gain = [0.45456, 1.0343]\n",
    "post_mean_loss = [0.896596, -0.765]\n"
   ]
  },
  {
   "cell_type": "markdown",
   "metadata": {},
   "source": [
    "The idea is to create an output CSV without using pandas :(\n",
    "    We are going to do this by using lists and dicitonaries. The idea is to creaate the trials as lists of dictionries\n",
    "\n",
    "Trials = \n",
    "```  trials = \n",
    "[{'p_reward': 0.13,\n",
    "  'value_reward': 50.0,\n",
    "  'category': 'Extr_pos',\n",
    "  'ambiguity': 0.0,\n",
    "  'SV_reward': 0.7724887228000991,\n",
    "  'SV_New_Safe': 0.38624436140004953,\n",
    "  'value_lott_SE': 10.91817090852721,\n",
    "  'value_safe': 0.12390278661966936},\n",
    " {'p_reward': 0.25,\n",
    "  'value_reward': 50.0,\n",
    "  'category': 'Extr_pos',\n",
    "  'ambiguity': 0.0,\n",
    "  'SV_reward': 1.4855552361540365,\n",
    "  'SV_New_Safe': 0.7427776180770183,\n",
    "  'value_lott_SE': 10.91817090852721,\n",
    "  'value_safe': 0.5206065839498941},\n",
    " {'p_reward': 0.38,\n",
    "  'value_reward': 50.0,\n",
    "  'category': 'Extr_pos',\n",
    "  'ambiguity': 0.0,\n",
    "  'SV_reward': 2.2580439589541355,\n",
    "  'SV_New_Safe': 1.1290219794770677,\n",
    "  'value_lott_SE': 10.91817090852721,\n",
    "  'value_safe': 1.3052453010492082},\n",
    " {'p_reward': 0.5,\n",
    "...\n",
    "  'ambiguity': 0.0,\n",
    "  'SV_reward': 4.4566657084621095,\n",
    "  'SV_New_Safe': 2.2283328542310548,\n",
    "  'value_lott_SE': 10.91817090852721,\n",
    "  'value_safe': 5.806103319838627}]\n",
    "\n",
    "With that, we can create the CSV at the end\n",
    "\n",
    "Trials = \n",
    "{'category': ['Zero_Reward',  'Zero_Reward',..., 'Int_neg', 'Int_neg','Int_neg'],\n",
    " 'p_reward': [0.75, 0.5,0.38, 0.25, 0.13, ..., 0.75 0.5, 0.38,0.25,0.13],\n",
    " 'value_reward': [-0.0,  -5.71, ..., -22.453 , -34.884],\n",
    " 'ambiguity': [0.0, 0.0,0.0  0.24, 0.5, 0.74, 0.0, 0.0],\n",
    " 'SV_reward': [0.0, -5.551115123125783e-17, -1.813, -3.62, -2.222, -4.532],\n",
    " 'SV_New_Safe': [-2.719, -1.8130],\n",
    " 'value_lott_SE': [-12.723, -12.723, -12.72,\n",
    "  'value_safe': [-7.20, -0.226,  -2.995, -2.7-2.51]\n",
    " }\n",
    "```"
   ]
  },
  {
   "cell_type": "markdown",
   "metadata": {},
   "source": [
    "# 1. Input: ADO parameters"
   ]
  },
  {
   "cell_type": "code",
   "execution_count": 436,
   "metadata": {},
   "outputs": [],
   "source": [
    "alpha_pos, beta_pos = post_mean_gain[0], post_mean_gain[1] #parameters for gains\n",
    "alpha_neg, beta_neg = post_mean_loss[0], post_mean_loss[1] #parameters for losses"
   ]
  },
  {
   "cell_type": "code",
   "execution_count": 437,
   "metadata": {},
   "outputs": [],
   "source": [
    "#Declare the variables\n",
    "p_options = [0.75, 0.5, 0.38, 0.25, 0.13]\n",
    "amb_options = [0.24, 0.5, 0.74]\n",
    "A_null = 0.0 # no ambiguity\n",
    "Vmax = 50.0 #The maximum amount we can pay to participants\n",
    "Vmin = -50.0 #The minimum amount we can take from participants\n",
    "Vsafe_pos = 5.0 # The old safe option in positive trials\n",
    "Vsafe_neg = -5.0 # The old safe option in negative trials\n",
    "\n",
    "#First, we create an empty dictionary that we will populate with the trials info. \n",
    "\n",
    "empty_trials = [{ #An indivual trial consists of the values with the same index in the different lists\n",
    "  'category': [],\n",
    "  'p_reward': [],\n",
    "  'value_lottery': [],\n",
    "  'ambiguity': [],\n",
    "  'SV_lottery':[],\n",
    "  'value_safe': [],\n",
    "  'SV_safe': []\n",
    "}]"
   ]
  },
  {
   "cell_type": "code",
   "execution_count": 438,
   "metadata": {},
   "outputs": [],
   "source": [
    "##FUNCTIONS\n",
    "\n",
    "#Create the extreme positive gains and losses\n",
    "def get_extr_rows(p_options, domain='gain'):\n",
    "    \"\"\"\n",
    "    Inputs:\n",
    "        - p_options = list of probability values (float)\n",
    "    Output:\n",
    "        - dictionaries of lists containing the maximum gain or loss. With empty keys that we will populate later on with SV and Vsafw\n",
    "    \"\"\"\n",
    "    extr = empty_trials.copy()\n",
    "    category = 'Extr_pos' if domain == 'gain' else 'Extr_neg'\n",
    "    V=[Vmax] * len(p_options) #A list of values with the same length as our p_options\n",
    "    if domain == 'loss':\n",
    "            V = [Vmin] * len(p_options)\n",
    "    extr = {\n",
    "            'category': [category]*len(p_options),\n",
    "            'p_reward': [p for p in p_options] ,\n",
    "            'value_lottery': V,\n",
    "            'ambiguity': [0.0]*len(p_options),\n",
    "            \n",
    "        }\n",
    "    return extr\n",
    "\n",
    "#Add ambiguity\n",
    "def add_ambig(trials,prob_amb=0.50):\n",
    "    \"\"\"\n",
    "    Inputs:\n",
    "        - trials dictionary\n",
    "        - amb_options = list of possible ambiguity values\n",
    "    Output:\n",
    "        - initial trials dictionary with new ambiguity trials\n",
    "    \"\"\"\n",
    "    V = [trials['value_lottery'][0]]*len(amb_options)\n",
    "    amb_trials = {\n",
    "            'p_reward': [prob_amb]*len(amb_options),\n",
    "            'value_lottery': V,\n",
    "            'ambiguity': [a for a in amb_options],\n",
    "        }\n",
    "    final_dict = {k: trials[k] + amb_trials[k] for k in set(trials) & set(amb_trials)}\n",
    "    final_dict['category'] = [trials['category'][0]]*len(final_dict['value_lottery'][:])\n",
    "    return final_dict\n",
    "\n",
    "#Add Subjective value given participant's alpha and beta\n",
    "def add_SV(trials, alpha, beta, domain='gain'):\n",
    "    \"\"\"\n",
    "    Inputs:\n",
    "        - trials dictionary\n",
    "        - Model parameters\n",
    "    Output:\n",
    "        - trials dictionary with subjective value \n",
    "    \"\"\"\n",
    "    Amp = 1.0\n",
    "    if domain == 'loss':\n",
    "          Amp = -1.0\n",
    "    trials['SV_lott'] = [(p -(beta*A/2)) * (Amp*abs(v) ** alpha) for p, v, A \n",
    "                         in zip(trials['p_reward'], trials['value_lottery'], trials['ambiguity'])] #This ZIP method is going to be a PIA in JS. However, I think we can emulate it in JS from scratch \n",
    "    return trials  \n",
    "\n",
    "# Add Vsafe and its subjective value     \n",
    "def add_Vsafe(trials, alpha,beta, domain = 'gain'):\n",
    "    \"\"\"\n",
    "     This function creates new values of safe options whose subjective value is half of that \n",
    "     of the maximum gain or loss SVnew_safe = 0.5*SV_max for each probability. That SV is going to be the SV of subjective equality \n",
    "\n",
    "     Inputs:\n",
    "        - trials dictionary\n",
    "        - Model parameters\n",
    "    Output:\n",
    "        - New safe options\n",
    "        - SV of SE trials\n",
    "    \"\"\" \n",
    "    Amp = 1.0 \n",
    "    if domain == 'loss':\n",
    "        Amp = -1.0\n",
    "    trials['SV_new_safe'] = [sv/2 for sv in trials['SV_lott']]\n",
    "    trials['value_safe'] = [Amp*(abs(sv))**(1/alpha) for sv in trials['SV_new_safe']]\n",
    "    return trials\n"
   ]
  },
  {
   "cell_type": "code",
   "execution_count": 442,
   "metadata": {},
   "outputs": [
    {
     "name": "stdout",
     "output_type": "stream",
     "text": [
      "{'p_reward': [0.75, 0.5, 0.38, 0.25, 0.13, 0.5, 0.5, 0.5], 'ambiguity': [0.0, 0.0, 0.0, 0.0, 0.0, 0.24, 0.5, 0.74], 'value_lottery': [50.0, 50.0, 50.0, 50.0, 50.0, 50.0, 50.0, 50.0], 'category': ['Extr_pos', 'Extr_pos', 'Extr_pos', 'Extr_pos', 'Extr_pos', 'Extr_pos', 'Extr_pos', 'Extr_pos'], 'SV_lott': [4.439612531232422, 2.9597416874882816, 2.249403682491094, 1.4798708437441408, 0.7695328387469532, 2.2250390889196905, 1.4291112738037168, 0.6944086752351256], 'SV_new_safe': [2.219806265616211, 1.4798708437441408, 1.124701841245547, 0.7399354218720704, 0.3847664193734766, 1.1125195444598452, 0.7145556369018584, 0.3472043376175628], 'value_safe': [5.779214056024037, 2.3685382742811, 1.2950266345451085, 0.5155082363421659, 0.12231027909596252, 1.2643682118988953, 0.47740788166001397, 0.09757075252551307]}\n"
     ]
    }
   ],
   "source": [
    "##GAINS\n",
    "rows_extr_pos = get_extr_rows(p_options)\n",
    "rows_extr_pos = add_ambig(rows_extr_pos)\n",
    "rows_extr_pos = add_SV(rows_extr_pos, alpha_pos,beta_pos) \n",
    "rows_extr_pos = add_Vsafe(rows_extr_pos, alpha_pos,beta_pos)\n",
    "print(rows_extr_pos)"
   ]
  },
  {
   "cell_type": "code",
   "execution_count": 440,
   "metadata": {},
   "outputs": [
    {
     "data": {
      "text/plain": [
       "{'p_reward': [0.75, 0.5, 0.38, 0.25, 0.13, 0.5, 0.5, 0.5],\n",
       " 'ambiguity': [0.0, 0.0, 0.0, 0.0, 0.0, 0.24, 0.5, 0.74],\n",
       " 'value_lottery': [-50.0, -50.0, -50.0, -50.0, -50.0, -50.0, -50.0, -50.0],\n",
       " 'category': ['Extr_neg',\n",
       "  'Extr_neg',\n",
       "  'Extr_neg',\n",
       "  'Extr_neg',\n",
       "  'Extr_neg',\n",
       "  'Extr_neg',\n",
       "  'Extr_neg',\n",
       "  'Extr_neg'],\n",
       " 'SV_lott': [-25.023668228005914,\n",
       "  -16.682445485337276,\n",
       "  -12.67865856885633,\n",
       "  -8.341222742668638,\n",
       "  -4.337435826187692,\n",
       "  -19.7453424764452,\n",
       "  -23.063480883478785,\n",
       "  -26.12637787458671],\n",
       " 'SV_new_safe': [-12.511834114002957,\n",
       "  -8.341222742668638,\n",
       "  -6.339329284428165,\n",
       "  -4.170611371334319,\n",
       "  -2.168717913093846,\n",
       "  -9.8726712382226,\n",
       "  -11.531740441739393,\n",
       "  -13.063188937293354],\n",
       " 'value_safe': [16.74458915384944,\n",
       "  10.653068363412174,\n",
       "  7.844090457454431,\n",
       "  4.917304119496426,\n",
       "  2.371249269370067,\n",
       "  12.856488453231144,\n",
       "  15.288423314523783,\n",
       "  17.569631173420586]}"
      ]
     },
     "execution_count": 440,
     "metadata": {},
     "output_type": "execute_result"
    }
   ],
   "source": [
    "##LOSSES\n",
    "rows_extr_neg = get_extr_rows(p_options, domain = 'loss')\n",
    "rows_extr_neg = add_ambig(rows_extr_neg) \n",
    "rows_extr_neg = add_SV(rows_extr_neg, alpha_neg,beta_neg, domain = 'loss')\n",
    "rows_extr_neg = add_Vsafe(rows_extr_neg, alpha_neg,beta_neg)\n",
    "\n",
    "rows_extr_neg\n"
   ]
  },
  {
   "cell_type": "markdown",
   "metadata": {},
   "source": [
    "# Output CSV"
   ]
  },
  {
   "cell_type": "code",
   "execution_count": 441,
   "metadata": {},
   "outputs": [],
   "source": [
    "# Extract column names from the keys of the first dictionary\n",
    "#fieldnames = crdm_trials[0].keys()\n",
    "\n",
    "# Define the name of the CSV file\n",
    "#csv_filename = 'crdm_trials.csv'\n",
    "\n",
    "# Write the data to the CSV file\n",
    "#with open(csv_filename, mode='w', newline='') as csv_file:\n",
    " #   writer = csv.DictWriter(csv_file, fieldnames=fieldnames)\n",
    "    \n",
    "    # Write the header row\n",
    "  #  writer.writeheader()\n",
    "    \n",
    "    # Write the data rows\n",
    "   # for row in crdm_trials:\n",
    "    #    writer.writerow(row)\n",
    "\n",
    "# print(f\"CSV file '{csv_filename}' has been created.\")"
   ]
  }
 ],
 "metadata": {
  "kernelspec": {
   "display_name": "idm_env",
   "language": "python",
   "name": "python3"
  },
  "language_info": {
   "codemirror_mode": {
    "name": "ipython",
    "version": 3
   },
   "file_extension": ".py",
   "mimetype": "text/x-python",
   "name": "python",
   "nbconvert_exporter": "python",
   "pygments_lexer": "ipython3",
   "version": "3.9.17"
  },
  "orig_nbformat": 4
 },
 "nbformat": 4,
 "nbformat_minor": 2
}
