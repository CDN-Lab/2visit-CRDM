{
 "cells": [
  {
   "cell_type": "markdown",
   "metadata": {
    "id": "nvwRKCexOqMI"
   },
   "source": [
    " 0. Import the relevant packages"
   ]
  },
  {
   "cell_type": "code",
   "execution_count": 174,
   "metadata": {
    "executionInfo": {
     "elapsed": 268,
     "status": "ok",
     "timestamp": 1689258762241,
     "user": {
      "displayName": "Santiago Guardo",
      "userId": "11450914326493335688"
     },
     "user_tz": 240
    },
    "id": "5pA17ATgOvii"
   },
   "outputs": [],
   "source": [
    "import pandas as pd\n",
    "import os"
   ]
  },
  {
   "attachments": {},
   "cell_type": "markdown",
   "metadata": {
    "id": "ym-4rYokA-7k"
   },
   "source": [
    "# Creating the choice set\n",
    "From   \n",
    "![image.png](https://cdn.jamanetwork.com/ama/content_public/journal/psych/938422/m_yoi190087ea.png?Expires=1691689740&Signature=OvJ06Ayrw5fJLEycmRUj9I6GyITQwp89ZN5rVQDOm8dU1z6ZvhwNCwFV8yKnBDDEgxFqnaUQWgV7viAKHn5NpRdiVPo-Rgc8kjwYTn-0dnbudBGSoeVtaw8gTSIUiLLnWWVj2sPafVJA9NhK3bivpgCt2RLxI2UJRYUuNUmrrx1CFwyJTKYPlljeVSSEZ3Iwc9dNmvZ4p71MmTQSt8a9KcXSmZ0r0IZhQ187TDnqEFIiAN3mv9A7snMUAnhROj0Fg1p5COdoTVA9Z3RVNw8AT8QgJNSKl44244OjAauQwcnETbDdh2NPeCv4NGXYVclFTopaMriRPqUO4y-QPdDQjw__&Key-Pair-Id=APKAIE5G5CRDK6RD3PGA)\n",
    "\n",
    "We now have all the elements to calculate subjective value.\n"
   ]
  },
  {
   "cell_type": "code",
   "execution_count": 216,
   "metadata": {},
   "outputs": [
    {
     "data": {
      "text/html": [
       "<div>\n",
       "<style scoped>\n",
       "    .dataframe tbody tr th:only-of-type {\n",
       "        vertical-align: middle;\n",
       "    }\n",
       "\n",
       "    .dataframe tbody tr th {\n",
       "        vertical-align: top;\n",
       "    }\n",
       "\n",
       "    .dataframe thead th {\n",
       "        text-align: right;\n",
       "    }\n",
       "</style>\n",
       "<table border=\"1\" class=\"dataframe\">\n",
       "  <thead>\n",
       "    <tr style=\"text-align: right;\">\n",
       "      <th></th>\n",
       "      <th>Unnamed: 0</th>\n",
       "      <th>crdm_lott_amt</th>\n",
       "      <th>crdm_lott_p</th>\n",
       "      <th>crdm_amb_lev</th>\n",
       "      <th>alpha</th>\n",
       "      <th>beta</th>\n",
       "      <th>gamma</th>\n",
       "    </tr>\n",
       "  </thead>\n",
       "  <tbody>\n",
       "    <tr>\n",
       "      <th>0</th>\n",
       "      <td>0</td>\n",
       "      <td>20.0</td>\n",
       "      <td>50.0</td>\n",
       "      <td>0.0</td>\n",
       "      <td>0.495324</td>\n",
       "      <td>0.22168</td>\n",
       "      <td>4.100226</td>\n",
       "    </tr>\n",
       "  </tbody>\n",
       "</table>\n",
       "</div>"
      ],
      "text/plain": [
       "   Unnamed: 0  crdm_lott_amt  crdm_lott_p  crdm_amb_lev     alpha     beta  \\\n",
       "0           0           20.0         50.0           0.0  0.495324  0.22168   \n",
       "\n",
       "      gamma  \n",
       "0  4.100226  "
      ]
     },
     "execution_count": 216,
     "metadata": {},
     "output_type": "execute_result"
    }
   ],
   "source": [
    "''' Input should have this form\n",
    "\n",
    "cols = ['crdm_lott_amt', 'crdm_lott_p', 'crdm_amb_lev', 'alpha', 'beta', 'gamma']\n",
    "\n",
    "df_indif = pd.DataFrame([[20, 50, 0, 0.495323857, 0.495323857, 4.100226383]], columns= cols)\n",
    "print(df_indif)\n",
    "filename = 'csv/example_input.csv'\n",
    "df_indif.to_csv(filename)\n",
    "\n",
    "'''\n",
    "subject_SE = 'csv/subject_input.csv'\n",
    "df = pd.read_csv(subject_SE) \n",
    "df"
   ]
  },
  {
   "cell_type": "code",
   "execution_count": 217,
   "metadata": {
    "colab": {
     "base_uri": "https://localhost:8080/"
    },
    "executionInfo": {
     "elapsed": 191,
     "status": "ok",
     "timestamp": 1689259019976,
     "user": {
      "displayName": "Santiago Guardo",
      "userId": "11450914326493335688"
     },
     "user_tz": 240
    },
    "id": "KwF6rTuUBL9u",
    "outputId": "159f563f-c4ea-40c9-d690-a6f7f41adc48"
   },
   "outputs": [
    {
     "name": "stdout",
     "output_type": "stream",
     "text": [
      "The probability of reward: 0.5\n",
      "The amount to be earned: 20.0\n",
      "The alpha parameter from the model: 0.495323857\n",
      "The beta parameter from the model: 0.221680178\n",
      "The ambiguity level of the SE trial: 0.0\n",
      "The SV of the equivalence trial is 2.204962459791904\n"
     ]
    }
   ],
   "source": [
    "#Declare the variables\n",
    "p = df['crdm_lott_p'].values[0]/100  #This is the probability of reward\n",
    "v = df['crdm_lott_amt'].values[0] #The amount to be gained\n",
    "alpha = df['alpha'].values[0] #Participant's or ADO alpha parameter\n",
    "beta = df['beta'].values[0] #Participant's or ADO beta parameter\n",
    "A= df['crdm_amb_lev'].values[0] #Ambiguity level\n",
    "\n",
    "#SV calculation and our probabilities options\n",
    "sv = (p - beta*A/2)*v**alpha  \n",
    "p_options = [0.87, 0.75, 0.62, 0.5, 0.38, 0.25, 0.13]\n",
    "\n",
    "#Confirme the SE trial structure\n",
    "print ('The probability of reward: ' + str(p))\n",
    "print ('The amount to be earned: ' + str(v))\n",
    "print ('The alpha parameter from the model: ' + str(alpha))\n",
    "print ('The beta parameter from the model: ' + str(beta))\n",
    "print ('The ambiguity level of the SE trial: ' + str(A))\n",
    "print('The SV of the equivalence trial is ' + str(sv))\n"
   ]
  },
  {
   "attachments": {},
   "cell_type": "markdown",
   "metadata": {
    "id": "XsW5DRgrAHiN"
   },
   "source": [
    "From the SV, we compute V, using the formula:\n",
    "\n",
    "# $v = \\left(\\frac{SV}{p-\\frac{\\beta A}{2}}\\right)^\\frac{1}{\\alpha}$\n"
   ]
  },
  {
   "cell_type": "markdown",
   "metadata": {
    "id": "2v1ZSOtLVG2t"
   },
   "source": [
    "# 2. Create the choice set. \n",
    "- We want to make 3 trials around the point of subjective equality. \n",
    "\n",
    "- We want 2 extreme trials. One at $50 and one at the -SV of the 50\\$ trial for each probability option. \n",
    "\n",
    "- We want 4 intermediate trials.  \n"
   ]
  },
  {
   "cell_type": "code",
   "execution_count": 218,
   "metadata": {
    "colab": {
     "base_uri": "https://localhost:8080/"
    },
    "executionInfo": {
     "elapsed": 28,
     "status": "ok",
     "timestamp": 1689258768062,
     "user": {
      "displayName": "Santiago Guardo",
      "userId": "11450914326493335688"
     },
     "user_tz": 240
    },
    "id": "yRuJF5-cK_Vk",
    "outputId": "3f1072df-d41c-4959-e086-77df4fcc848d"
   },
   "outputs": [
    {
     "name": "stdout",
     "output_type": "stream",
     "text": [
      "Trials with the same subjective value for all of our Prob options: \n",
      "{0.87: 6.54, 0.75: 8.82, 0.62: 12.95, 0.5: 20.0, 0.38: 34.81, 0.25: 81.05, 0.13: 303.48}\n"
     ]
    }
   ],
   "source": [
    "#First, we compute the Subjective indiference trials.\n",
    "\n",
    "def SE_options(sv, alpha, beta, A): #This function take as parameters SV, alpha, beta and ambiguity level\n",
    "  valuesP = {} #The output will be an empty dictionary with the probabilities as keys and rewards as values.\n",
    "  for p in p_options: #A loop to iterate through all the probabilities optins.\n",
    "    v_new = (sv / (p-beta*A/2)) ** (1 / alpha)\n",
    "    valuesP[p] = v_new #for every p it includes the calculated value\n",
    "  return valuesP\n",
    "\n",
    "\n",
    "new_choicesp = SE_options(sv, alpha,beta,A)\n",
    "SE_trials = {k: round(v, 2) for k, v in new_choicesp.items()}\n",
    "print('Trials with the same subjective value for all of our Prob options: \\n' + str(SE_trials))\n"
   ]
  },
  {
   "attachments": {},
   "cell_type": "markdown",
   "metadata": {},
   "source": [
    "- Next, we create new trials by adding and substracting \\$2 from the SE trials values."
   ]
  },
  {
   "cell_type": "code",
   "execution_count": 219,
   "metadata": {},
   "outputs": [
    {
     "name": "stdout",
     "output_type": "stream",
     "text": [
      "Trials centered + - $2 around SE \n",
      "{0.87: [4.54, 8.54], 0.75: [6.82, 10.82], 0.62: [10.95, 14.95], 0.5: [18.0, 22.0], 0.38: [32.81, 36.81], 0.25: [79.05, 83.05], 0.13: [301.48, 305.48]}\n"
     ]
    }
   ],
   "source": [
    "#Centered around subjective indifference +/- and $2\n",
    "def centered ():\n",
    "  cent_trials1 = {}\n",
    "  for k,v1 in SE_trials.items():\n",
    "    cent_trials1[k] = [float(v1) - 2.0,float(v1) + 2.0]\n",
    "  return cent_trials1\n",
    "\n",
    "cent_trials1 = centered()\n",
    "print(\"Trials centered + - $2 around SE \\n\" + str(cent_trials1))"
   ]
  },
  {
   "cell_type": "code",
   "execution_count": 220,
   "metadata": {},
   "outputs": [
    {
     "name": "stdout",
     "output_type": "stream",
     "text": [
      "Trials around the SE and + - \\$2: \n",
      " {0.87: [6.54, 4.54, 8.54], 0.75: [8.82, 6.82, 10.82], 0.62: [12.95, 10.95, 14.95], 0.5: [20.0, 18.0, 22.0], 0.38: [34.81, 32.81, 36.81], 0.25: [81.05, 79.05, 83.05], 0.13: [303.48, 301.48, 305.48]}\n"
     ]
    }
   ],
   "source": [
    "#Trials around SE (including the SE)\n",
    "cent_trials = {}\n",
    "for prob in SE_trials:\n",
    "    value1 = float(SE_trials[prob]) #We convert the values in SE_trials into floats\n",
    "    value2 = cent_trials1[prob] #We call the values from the cent_trials 1 dict. This have the plus/minus $2 but without the SE trials\n",
    "    cent_trials[prob] = [value1] + value2 #Join the SE trials and the plus/minus $2 tirals\n",
    "cent_trials\n",
    "print('Trials around the SE and + - \\$2: \\n', cent_trials)"
   ]
  },
  {
   "cell_type": "code",
   "execution_count": 221,
   "metadata": {},
   "outputs": [
    {
     "name": "stdout",
     "output_type": "stream",
     "text": [
      "CSV file 'csv/cent_trials.csv' created successfully.\n"
     ]
    },
    {
     "data": {
      "text/html": [
       "<div>\n",
       "<style scoped>\n",
       "    .dataframe tbody tr th:only-of-type {\n",
       "        vertical-align: middle;\n",
       "    }\n",
       "\n",
       "    .dataframe tbody tr th {\n",
       "        vertical-align: top;\n",
       "    }\n",
       "\n",
       "    .dataframe thead th {\n",
       "        text-align: right;\n",
       "    }\n",
       "</style>\n",
       "<table border=\"1\" class=\"dataframe\">\n",
       "  <thead>\n",
       "    <tr style=\"text-align: right;\">\n",
       "      <th></th>\n",
       "      <th>p_reward</th>\n",
       "      <th>value_reward</th>\n",
       "    </tr>\n",
       "  </thead>\n",
       "  <tbody>\n",
       "    <tr>\n",
       "      <th>0</th>\n",
       "      <td>0.87</td>\n",
       "      <td>6.54</td>\n",
       "    </tr>\n",
       "    <tr>\n",
       "      <th>1</th>\n",
       "      <td>0.87</td>\n",
       "      <td>4.54</td>\n",
       "    </tr>\n",
       "    <tr>\n",
       "      <th>2</th>\n",
       "      <td>0.87</td>\n",
       "      <td>8.54</td>\n",
       "    </tr>\n",
       "    <tr>\n",
       "      <th>3</th>\n",
       "      <td>0.75</td>\n",
       "      <td>8.82</td>\n",
       "    </tr>\n",
       "    <tr>\n",
       "      <th>4</th>\n",
       "      <td>0.75</td>\n",
       "      <td>6.82</td>\n",
       "    </tr>\n",
       "    <tr>\n",
       "      <th>5</th>\n",
       "      <td>0.75</td>\n",
       "      <td>10.82</td>\n",
       "    </tr>\n",
       "    <tr>\n",
       "      <th>6</th>\n",
       "      <td>0.62</td>\n",
       "      <td>12.95</td>\n",
       "    </tr>\n",
       "    <tr>\n",
       "      <th>7</th>\n",
       "      <td>0.62</td>\n",
       "      <td>10.95</td>\n",
       "    </tr>\n",
       "    <tr>\n",
       "      <th>8</th>\n",
       "      <td>0.62</td>\n",
       "      <td>14.95</td>\n",
       "    </tr>\n",
       "    <tr>\n",
       "      <th>9</th>\n",
       "      <td>0.50</td>\n",
       "      <td>20.00</td>\n",
       "    </tr>\n",
       "    <tr>\n",
       "      <th>10</th>\n",
       "      <td>0.50</td>\n",
       "      <td>18.00</td>\n",
       "    </tr>\n",
       "    <tr>\n",
       "      <th>11</th>\n",
       "      <td>0.50</td>\n",
       "      <td>22.00</td>\n",
       "    </tr>\n",
       "    <tr>\n",
       "      <th>12</th>\n",
       "      <td>0.38</td>\n",
       "      <td>34.81</td>\n",
       "    </tr>\n",
       "    <tr>\n",
       "      <th>13</th>\n",
       "      <td>0.38</td>\n",
       "      <td>32.81</td>\n",
       "    </tr>\n",
       "    <tr>\n",
       "      <th>14</th>\n",
       "      <td>0.38</td>\n",
       "      <td>36.81</td>\n",
       "    </tr>\n",
       "    <tr>\n",
       "      <th>15</th>\n",
       "      <td>0.25</td>\n",
       "      <td>81.05</td>\n",
       "    </tr>\n",
       "    <tr>\n",
       "      <th>16</th>\n",
       "      <td>0.25</td>\n",
       "      <td>79.05</td>\n",
       "    </tr>\n",
       "    <tr>\n",
       "      <th>17</th>\n",
       "      <td>0.25</td>\n",
       "      <td>83.05</td>\n",
       "    </tr>\n",
       "    <tr>\n",
       "      <th>18</th>\n",
       "      <td>0.13</td>\n",
       "      <td>303.48</td>\n",
       "    </tr>\n",
       "    <tr>\n",
       "      <th>19</th>\n",
       "      <td>0.13</td>\n",
       "      <td>301.48</td>\n",
       "    </tr>\n",
       "    <tr>\n",
       "      <th>20</th>\n",
       "      <td>0.13</td>\n",
       "      <td>305.48</td>\n",
       "    </tr>\n",
       "  </tbody>\n",
       "</table>\n",
       "</div>"
      ],
      "text/plain": [
       "    p_reward  value_reward\n",
       "0       0.87          6.54\n",
       "1       0.87          4.54\n",
       "2       0.87          8.54\n",
       "3       0.75          8.82\n",
       "4       0.75          6.82\n",
       "5       0.75         10.82\n",
       "6       0.62         12.95\n",
       "7       0.62         10.95\n",
       "8       0.62         14.95\n",
       "9       0.50         20.00\n",
       "10      0.50         18.00\n",
       "11      0.50         22.00\n",
       "12      0.38         34.81\n",
       "13      0.38         32.81\n",
       "14      0.38         36.81\n",
       "15      0.25         81.05\n",
       "16      0.25         79.05\n",
       "17      0.25         83.05\n",
       "18      0.13        303.48\n",
       "19      0.13        301.48\n",
       "20      0.13        305.48"
      ]
     },
     "execution_count": 221,
     "metadata": {},
     "output_type": "execute_result"
    }
   ],
   "source": [
    "# Make it a CSV\n",
    "# Convert the dictionary to a DataFrame\n",
    "df = pd.DataFrame(list(cent_trials.items()), columns=['p_reward', 'value_reward'])\n",
    "df = df.explode('value_reward')\n",
    "# Specify the filename for the new CSV file\n",
    "cent_trialsCSV = 'csv/cent_trials.csv'\n",
    "\n",
    "# Save the DataFrame to a CSV file\n",
    "df.to_csv(cent_trialsCSV, index=False)\n",
    "\n",
    "print(f\"CSV file '{cent_trialsCSV}' created successfully.\")\n",
    "pd.read_csv(cent_trialsCSV)"
   ]
  },
  {
   "attachments": {},
   "cell_type": "markdown",
   "metadata": {},
   "source": [
    "**Extreme trials:**\n",
    "\n",
    "To create trials far way from the subjective equality point (SEP). We first make trials with a Value of reward of $50, which is the maximum amount we can pay to participants. Thus this is the highest subjective value we can reach."
   ]
  },
  {
   "cell_type": "code",
   "execution_count": 222,
   "metadata": {},
   "outputs": [
    {
     "name": "stdout",
     "output_type": "stream",
     "text": [
      "{0.87: 50, 0.75: 50, 0.62: 50, 0.5: 50, 0.38: 50, 0.25: 50, 0.13: 50}\n"
     ]
    }
   ],
   "source": [
    "extrpos = {} #Create an empty dict\n",
    "for p in p_options: #Iterate through the probability levels\n",
    "    extrpos[p] = 50 #Assign them the 50 dollars value\n",
    "print(extrpos)"
   ]
  },
  {
   "cell_type": "code",
   "execution_count": 228,
   "metadata": {},
   "outputs": [
    {
     "data": {
      "text/plain": [
       "[6.040315564667845,\n",
       " 5.2071685902309,\n",
       " 4.304592701257544,\n",
       " 3.4714457268206003,\n",
       " 2.638298752383656,\n",
       " 1.7357228634103001,\n",
       " 0.902575888973356]"
      ]
     },
     "execution_count": 228,
     "metadata": {},
     "output_type": "execute_result"
    }
   ],
   "source": [
    "#Now, lets calculate the SV of each extreme positive trial\n",
    "svpos = []\n",
    "for p in p_options:\n",
    "    sv2 = (p - beta*A/2)*50**alpha \n",
    "    svpos.append(sv2)\n",
    "svpos\n",
    " "
   ]
  },
  {
   "cell_type": "code",
   "execution_count": 185,
   "metadata": {},
   "outputs": [
    {
     "name": "stdout",
     "output_type": "stream",
     "text": [
      "Evil SV for $50 at 87.0% probability: [-6.040315564667845]\n",
      "Evil SV for $50 at 75.0% probability: [-6.040315564667845, -5.2071685902309]\n",
      "Evil SV for $50 at 62.0% probability: [-6.040315564667845, -5.2071685902309, -4.304592701257544]\n",
      "Evil SV for $50 at 50.0% probability: [-6.040315564667845, -5.2071685902309, -4.304592701257544, -3.4714457268206003]\n",
      "Evil SV for $50 at 38.0% probability: [-6.040315564667845, -5.2071685902309, -4.304592701257544, -3.4714457268206003, -2.638298752383656]\n",
      "Evil SV for $50 at 25.0% probability: [-6.040315564667845, -5.2071685902309, -4.304592701257544, -3.4714457268206003, -2.638298752383656, -1.7357228634103001]\n",
      "Evil SV for $50 at 13.0% probability: [-6.040315564667845, -5.2071685902309, -4.304592701257544, -3.4714457268206003, -2.638298752383656, -1.7357228634103001, -0.902575888973356]\n"
     ]
    },
    {
     "data": {
      "text/plain": [
       "[-6.040315564667845,\n",
       " -5.2071685902309,\n",
       " -4.304592701257544,\n",
       " -3.4714457268206003,\n",
       " -2.638298752383656,\n",
       " -1.7357228634103001,\n",
       " -0.902575888973356]"
      ]
     },
     "execution_count": 185,
     "metadata": {},
     "output_type": "execute_result"
    }
   ],
   "source": [
    "#Now, lets calculate the SV of each extreme Negative trial\n",
    "svevil = []\n",
    "for p in p_options:\n",
    "    sv = (p - beta*A/2)*50**alpha \n",
    "    negsv = -sv\n",
    "    svevil.append (negsv)\n",
    "    print (f'Evil SV for $50 at {p*100}% probability: {svevil}') \n",
    "svevil"
   ]
  },
  {
   "cell_type": "code",
   "execution_count": 237,
   "metadata": {},
   "outputs": [
    {
     "data": {
      "text/html": [
       "<div>\n",
       "<style scoped>\n",
       "    .dataframe tbody tr th:only-of-type {\n",
       "        vertical-align: middle;\n",
       "    }\n",
       "\n",
       "    .dataframe tbody tr th {\n",
       "        vertical-align: top;\n",
       "    }\n",
       "\n",
       "    .dataframe thead th {\n",
       "        text-align: right;\n",
       "    }\n",
       "</style>\n",
       "<table border=\"1\" class=\"dataframe\">\n",
       "  <thead>\n",
       "    <tr style=\"text-align: right;\">\n",
       "      <th></th>\n",
       "      <th>p_reward</th>\n",
       "      <th>SE_reward</th>\n",
       "      <th>SV_reward</th>\n",
       "      <th>SV_safe</th>\n",
       "      <th>MaxReward</th>\n",
       "      <th>SV_MaxReward</th>\n",
       "      <th>deltaSV</th>\n",
       "    </tr>\n",
       "  </thead>\n",
       "  <tbody>\n",
       "    <tr>\n",
       "      <th>0</th>\n",
       "      <td>0.87</td>\n",
       "      <td>6.54</td>\n",
       "      <td>2.205436</td>\n",
       "      <td>2.219303</td>\n",
       "      <td>50</td>\n",
       "      <td>6.040316</td>\n",
       "      <td>3.834880</td>\n",
       "    </tr>\n",
       "    <tr>\n",
       "      <th>1</th>\n",
       "      <td>0.75</td>\n",
       "      <td>8.82</td>\n",
       "      <td>2.204826</td>\n",
       "      <td>2.219303</td>\n",
       "      <td>50</td>\n",
       "      <td>5.207169</td>\n",
       "      <td>3.002342</td>\n",
       "    </tr>\n",
       "    <tr>\n",
       "      <th>2</th>\n",
       "      <td>0.62</td>\n",
       "      <td>12.95</td>\n",
       "      <td>2.204578</td>\n",
       "      <td>2.219303</td>\n",
       "      <td>50</td>\n",
       "      <td>4.304593</td>\n",
       "      <td>2.100015</td>\n",
       "    </tr>\n",
       "    <tr>\n",
       "      <th>3</th>\n",
       "      <td>0.50</td>\n",
       "      <td>20.00</td>\n",
       "      <td>2.204962</td>\n",
       "      <td>2.219303</td>\n",
       "      <td>50</td>\n",
       "      <td>3.471446</td>\n",
       "      <td>1.266483</td>\n",
       "    </tr>\n",
       "    <tr>\n",
       "      <th>4</th>\n",
       "      <td>0.38</td>\n",
       "      <td>34.81</td>\n",
       "      <td>2.205090</td>\n",
       "      <td>2.219303</td>\n",
       "      <td>50</td>\n",
       "      <td>2.638299</td>\n",
       "      <td>0.433208</td>\n",
       "    </tr>\n",
       "    <tr>\n",
       "      <th>5</th>\n",
       "      <td>0.25</td>\n",
       "      <td>81.05</td>\n",
       "      <td>2.204910</td>\n",
       "      <td>2.219303</td>\n",
       "      <td>50</td>\n",
       "      <td>1.735723</td>\n",
       "      <td>-0.469187</td>\n",
       "    </tr>\n",
       "    <tr>\n",
       "      <th>6</th>\n",
       "      <td>0.13</td>\n",
       "      <td>303.48</td>\n",
       "      <td>2.204964</td>\n",
       "      <td>2.219303</td>\n",
       "      <td>50</td>\n",
       "      <td>0.902576</td>\n",
       "      <td>-1.302389</td>\n",
       "    </tr>\n",
       "  </tbody>\n",
       "</table>\n",
       "</div>"
      ],
      "text/plain": [
       "   p_reward  SE_reward  SV_reward   SV_safe  MaxReward  SV_MaxReward   deltaSV\n",
       "0      0.87       6.54   2.205436  2.219303         50      6.040316  3.834880\n",
       "1      0.75       8.82   2.204826  2.219303         50      5.207169  3.002342\n",
       "2      0.62      12.95   2.204578  2.219303         50      4.304593  2.100015\n",
       "3      0.50      20.00   2.204962  2.219303         50      3.471446  1.266483\n",
       "4      0.38      34.81   2.205090  2.219303         50      2.638299  0.433208\n",
       "5      0.25      81.05   2.204910  2.219303         50      1.735723 -0.469187\n",
       "6      0.13     303.48   2.204964  2.219303         50      0.902576 -1.302389"
      ]
     },
     "execution_count": 237,
     "metadata": {},
     "output_type": "execute_result"
    }
   ],
   "source": [
    "# Convert the dictionary to a DataFrame\n",
    "df1 = pd.DataFrame(SE_trials.items(), columns=['p_reward', 'SE_reward'])\n",
    "#p_reward = df1['p_reward'].values\n",
    "#value_reward = df1['value_reward'].values\n",
    "df1['SV_reward'] = (df1['p_reward'] - beta*A/2)*df1['SE_reward']**alpha\n",
    "df1['SV_safe'] = 5.0**alpha\n",
    "df1['MaxReward'] = 50\n",
    "df1['SV_MaxReward'] = svpos\n",
    "df1['deltaSV'] = df1['SV_MaxReward'] - df1['SV_reward']\n",
    "df1\n"
   ]
  },
  {
   "cell_type": "code",
   "execution_count": 186,
   "metadata": {},
   "outputs": [
    {
     "name": "stdout",
     "output_type": "stream",
     "text": [
      "Trials with the least SV for every prob option: \n",
      "{0.87: '6.54', 0.75: '8.82', 0.62: '12.95', 0.5: '20.00', 0.38: '34.81', 0.25: '81.05', 0.13: '303.48'}\n"
     ]
    },
    {
     "name": "stderr",
     "output_type": "stream",
     "text": [
      "/var/folders/yx/fkwj2lbx3674djc_4jq5g8vnvntbk4/T/ipykernel_6988/2890011471.py:6: RuntimeWarning: invalid value encountered in scalar power\n",
      "  v_new = (SVevil / (p-beta*A/2)) ** (1 / alpha)\n"
     ]
    }
   ],
   "source": [
    "#Now, let's see what Value produces that -SV for all the probability levels\n",
    "SVevil= -6.040315564667845\n",
    "def ExtrNeg_options(SVevil, alpha, beta, A): #This function take as parameters SV, alpha, beta and ambiguity level\n",
    "  NegvaluesP = {} #The output will be an empty dictionary with the probabilities as keys and rewards as values.\n",
    "  for p in p_options: #A loop to iterate through all the probabilities optins.\n",
    "    v_new = (SVevil / (p-beta*A/2)) ** (1 / alpha)\n",
    "    NegvaluesP[p] = v_new #for every p it includes the calculated value\n",
    "  return NegvaluesP\n",
    "\n",
    "ExtrNeg_choices = ExtrNeg_options(SVevil, alpha,beta,A)\n",
    "ExtrNeg1 = {k: '{:.2f}'.format(v) for k, v in new_choicesp.items()}\n",
    "\n",
    "print('Trials with the least SV for every prob option: \\n' + str(ExtrNeg1))\n"
   ]
  },
  {
   "attachments": {},
   "cell_type": "markdown",
   "metadata": {
    "id": "hH1nvIOdRAZL"
   },
   "source": [
    "# 4. The new choices CSV"
   ]
  },
  {
   "cell_type": "code",
   "execution_count": null,
   "metadata": {},
   "outputs": [],
   "source": [
    "#For the extreme positvie trials\n",
    "# Convert the dictionary to a DataFrame\n",
    "df = pd.DataFrame(list(extrpos.items()), columns=['p_reward', 'value_reward'])\n",
    "df = df.explode('value_reward')\n",
    " # Unpack the list in 'value_reward' column\n",
    "# Specify the filename for the new CSV file\n",
    "extrpos_trialsCSV = 'csv/extrpos.csv'\n",
    "\n",
    "# Save the DataFrame to a CSV file\n",
    "df.to_csv(extrpos_trialsCSV, index=False)\n",
    "\n",
    "print(f\"CSV file '{extrpos_trialsCSV}' created successfully.\")\n",
    "pd.read_csv(extrpos_trialsCSV)"
   ]
  },
  {
   "cell_type": "code",
   "execution_count": null,
   "metadata": {},
   "outputs": [],
   "source": [
    "#For the extreme negative trials\n",
    "# Convert the dictionary to a DataFrame\n",
    "df = pd.DataFrame(list(extrneg.items()), columns=['p_reward', 'value_reward'])\n",
    "df = df.explode('value_reward')\n",
    " # Unpack the list in 'value_reward' column\n",
    "# Specify the filename for the new CSV file\n",
    "extrneg_trialsCSV = 'csv/extrneg.csv'\n",
    "\n",
    "# Save the DataFrame to a CSV file\n",
    "df.to_csv(extrneg_trialsCSV, index=False)\n",
    "\n",
    "print(f\"CSV file '{extrneg_trialsCSV}' created successfully.\")\n",
    "pd.read_csv(extrneg_trialsCSV)"
   ]
  },
  {
   "cell_type": "code",
   "execution_count": null,
   "metadata": {},
   "outputs": [],
   "source": [
    "#Final CSV\n",
    "SE_trialCSV = pd.read_csv(SE_trialsCSV)\n",
    "cent_trialCSV = pd.read_csv(cent_trialsCSV)\n",
    "extrpos_trialCSV = pd.read_csv(extrpos_trialsCSV)\n",
    "extrneg_trialCSV = pd.read_csv(extrneg_trialsCSV)\n",
    "#Complete trials CSV\n",
    "crdm_trials = pd.concat([SE_trialCSV,cent_trialCSV, extrpos_trialCSV,extrneg_trialCSV])\n",
    "crdm_trialsCSV = 'csv/crdm_trials.csv'\n",
    "crdm_trials.to_csv(crdm_trialsCSV, index = False)\n",
    "print(f\"CSV file concatenated successfully.\")\n",
    "pd.read_csv(crdm_trialsCSV)"
   ]
  },
  {
   "cell_type": "code",
   "execution_count": null,
   "metadata": {},
   "outputs": [],
   "source": [
    "# Complete trials CSV with filtered trials (<$50)\n",
    "crdm_trials = pd.concat([SE_trialCSV, cent_trialCSV, extrpos_trialCSV, extrneg_trialCSV])\n",
    "\n",
    "# Convert 'value_reward' column to numeric\n",
    "crdm_trials['value_reward'] = pd.to_numeric(crdm_trials['value_reward'], errors='coerce')\n",
    "\n",
    "# Filter rows where 'value_reward' is less than or equal to 50\n",
    "crdm_50filtered = crdm_trials[crdm_trials['value_reward'] <= 60]\n",
    "\n",
    "# Specify the filename for the new CSV file with the filtered data\n",
    "crdm_trials_50cap = 'csv/crdm_trials_50cap.csv'\n",
    "\n",
    "# Save the filtered DataFrame to a new CSV file\n",
    "crdm_50filtered.to_csv(crdm_trials_50cap, index=False)\n",
    "\n",
    "print(f\"CSV file filtered successfully.\")\n",
    "pd.read_csv(crdm_trials_50cap)"
   ]
  },
  {
   "attachments": {},
   "cell_type": "markdown",
   "metadata": {},
   "source": [
    "# To do:\n",
    "- Add ambiguity to the choice set. \n",
    "\n",
    "    -   *My proposal:* randomize some of the trials from the final CSV with different ambiguity levels.\n",
    "\n",
    "    -  Silvia, is this okay or do you want a more systematic approach to creat the Ambiguous trials choice cet?"
   ]
  },
  {
   "cell_type": "code",
   "execution_count": null,
   "metadata": {},
   "outputs": [],
   "source": [
    "N=10\n",
    "p = 10*[3]\n",
    "print(p)"
   ]
  },
  {
   "cell_type": "code",
   "execution_count": null,
   "metadata": {},
   "outputs": [],
   "source": [
    "#Inserting amibuity\n",
    "import random\n",
    "df = pd.read_csv(crdm_trials_50cap)\n",
    "\n",
    "#Define the ambiguity options\n",
    "crdm_amb_lvl = [24,50,74]\n",
    "\n",
    "\n",
    "# number of ambiguous trials by type\n",
    "N_AMB = 10\n",
    "crdm_amb_opt = [N_AMB*[a] for a in crdm_amb_lvl]\n",
    "crdm_amb_opt = [item for sublist in crdm_amb_opt for item in sublist]\n",
    "print(crdm_amb_opt)\n",
    "random.shuffle(crdm_amb_opt)\n",
    "print(crdm_amb_opt)\n",
    "\n"
   ]
  },
  {
   "cell_type": "code",
   "execution_count": null,
   "metadata": {},
   "outputs": [],
   "source": [
    "\n",
    "#Define the number of ambiguous trials by picking X number of random rows.\n",
    "amb_trials = df.sample(n=len(crdm_amb_opt))\n",
    "\n",
    "#Assign ambiguity values that match the number of random rows\n",
    "# amb_levels = [random.choice(crdm_amb_opt) for x in range(15)]\n",
    "#Assign those values to the random rows\n",
    "amb_trials['crdm_amb_lev'] = crdm_amb_opt\n",
    "amb_trials\n",
    "\n",
    "\n",
    "\n"
   ]
  },
  {
   "cell_type": "code",
   "execution_count": null,
   "metadata": {},
   "outputs": [],
   "source": [
    "\n",
    "crdm_trials['crdm_amb_lev'] = 0.0\n",
    "# choice_set = crdm_trials\n",
    "choice_set = pd.concat([crdm_trials,amb_trials],ignore_index=True)\n",
    "\n",
    "print(choice_set)\n",
    "\n"
   ]
  },
  {
   "cell_type": "code",
   "execution_count": null,
   "metadata": {},
   "outputs": [],
   "source": [
    "import matplotlib.pyplot as plt\n",
    "\n",
    "choice_set['SV_lottery'] = (choice_set['p_reward'] - beta*(choice_set['crdm_amb_lev']/100.0/2))*choice_set['value_reward']**alpha\n",
    "choice_set['SV_safe'] = 5.0**alpha\n",
    "choice_set['SV_diff'] = choice_set['SV_lottery'] - choice_set['SV_safe']\n",
    "print(choice_set)\n",
    "\n",
    "plt.figure(1)\n",
    "plt.hist(choice_set.loc[choice_set['crdm_amb_lev']==0.0,'SV_diff'],bins=10)\n",
    "\n",
    "plt.figure(2)\n",
    "plt.hist(choice_set.loc[choice_set['crdm_amb_lev']>0.0,'SV_diff'],bins=10)\n",
    "\n"
   ]
  },
  {
   "cell_type": "code",
   "execution_count": null,
   "metadata": {},
   "outputs": [],
   "source": [
    "plt.figure(4)\n",
    "x = choice_set.loc[choice_set['crdm_amb_lev']==0.0,'value_reward']\n",
    "y = choice_set.loc[choice_set['crdm_amb_lev']==0.0,'SV_diff']\n",
    "plt.scatter(x,y)\n",
    "plt.xlabel('Value of Reward')\n",
    "plt.ylabel('SV difference (no ambiuguity)')\n",
    "\n",
    "\n",
    "plt.figure(5)\n",
    "x = choice_set.loc[choice_set['crdm_amb_lev']>0.0,'crdm_amb_lev']\n",
    "y = choice_set.loc[choice_set['crdm_amb_lev']>0.0,'SV_diff']\n",
    "plt.scatter(x,y)\n",
    "plt.xlabel('Ambiguity level')\n",
    "plt.ylabel('SV difference (ambiuguity)')\n",
    "\n"
   ]
  },
  {
   "attachments": {},
   "cell_type": "markdown",
   "metadata": {
    "id": "WxP95JWMP25d"
   },
   "source": [
    "## It's not much but it's honest work\n",
    "![python](https://plantillasdememes.com/img/plantillas/no-es-mucho-pero-es-trabajo-honesto01569991155.jpg)"
   ]
  }
 ],
 "metadata": {
  "colab": {
   "authorship_tag": "ABX9TyNsM7DfrVfVIssbBpHNb4hF",
   "provenance": [
    {
     "file_id": "1JnEr84Sea-WFZsJApNPM209ym2sBaB0T",
     "timestamp": 1688409014729
    }
   ]
  },
  "kernelspec": {
   "display_name": "Python 3",
   "language": "python",
   "name": "python3"
  },
  "language_info": {
   "codemirror_mode": {
    "name": "ipython",
    "version": 3
   },
   "file_extension": ".py",
   "mimetype": "text/x-python",
   "name": "python",
   "nbconvert_exporter": "python",
   "pygments_lexer": "ipython3",
   "version": "3.9.16"
  },
  "vscode": {
   "interpreter": {
    "hash": "8217df094c15840ab0a75dca1e7a3567e85bef39404f33b20dcb3bb363dda79b"
   }
  }
 },
 "nbformat": 4,
 "nbformat_minor": 1
}
