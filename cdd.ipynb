{
 "cells": [
  {
   "cell_type": "markdown",
   "metadata": {},
   "source": [
    "From the Subjective Value formula, we can calculate new values:\n",
    "# \n",
    "$$\n",
    "SV = \\frac{V}{1 + k\\cdot d}\n",
    "$$\n",
    "$$\n",
    "V = SV \\cdot (1+ K \\cdot d)\n",
    "$$\n",
    "\n",
    "Where V is the amount to be gained, d is the delay, SV the subjective value and K the kappa parameter of the hyperbolic discount"
   ]
  },
  {
   "cell_type": "code",
   "execution_count": 5,
   "metadata": {},
   "outputs": [
    {
     "name": "stdout",
     "output_type": "stream",
     "text": [
      "the Participant Code is 23_SDM_0004_N\n",
      "loading fn: /Volumes/UCDN/datasets/SDM/split/23_SDM_0004_N/cdd/23_SDM_0004_N_cdd.csv\n",
      "loading fn: /Volumes/UCDN/datasets/SDM/utility/split_CDD_analysis.csv\n"
     ]
    },
    {
     "data": {
      "text/plain": [
       "0.012000836788582943"
      ]
     },
     "execution_count": 5,
     "metadata": {},
     "output_type": "execute_result"
    }
   ],
   "source": [
    "import csv\n",
    "import os\n",
    "#participant_code = input (\"\")\n",
    "path = '/Volumes/UCDN/datasets/SDM/'\n",
    "participant_code = '23_SDM_0004_N'\n",
    "print('the Participant Code is ' + participant_code)\n",
    "#MAC path to the File share\n",
    "participant_split_dir = os.path.join(path,'split') \n",
    "participant_trials = os.path.join(participant_split_dir,'{}/cdd/{}_cdd.csv').format(participant_code,participant_code) #This is the psychopy output CSV.We will use it to retrieve the probabilities and image files. \n",
    "\n",
    "#Path to the utility model data\n",
    "utility_dir = os.path.join(path,'utility')\n",
    "utility_analysis = os.path.join(utility_dir,'split_CDD_analysis.csv')\n",
    "#parameters = pd.read_csv(utility_analysis)\n",
    "amb_options = [0.24, 0.5, 0.74]\n",
    "\n",
    "print('loading fn: {}'.format(participant_trials))\n",
    "print('loading fn: {}'.format(utility_analysis))\n",
    "\n",
    "#Extracting the parameters from participants\n",
    "\n",
    "#Model parameters\n",
    "kappa_value = None\n",
    "\n",
    "# Open the CSV file and read its contents into csv_data\n",
    "with open(utility_analysis, newline='') as file:\n",
    "    reader = csv.DictReader(file)\n",
    "    # Iterate through each row in the CSV\n",
    "    for row in reader:\n",
    "        if row['subject'] == participant_code:\n",
    "            kappa_value = float(row['kappa'])\n",
    "            break  # Exit the loop once the participant is found\n",
    "\n",
    "kappa_value"
   ]
  },
  {
   "cell_type": "code",
   "execution_count": 15,
   "metadata": {},
   "outputs": [
    {
     "data": {
      "text/plain": [
       "[4,\n",
       " 5,\n",
       " 6,\n",
       " 9,\n",
       " 10,\n",
       " 11,\n",
       " 149,\n",
       " 150,\n",
       " 151,\n",
       " 152,\n",
       " 29,\n",
       " 30,\n",
       " 31,\n",
       " 59,\n",
       " 60,\n",
       " 61,\n",
       " 64,\n",
       " 89,\n",
       " 90,\n",
       " 91]"
      ]
     },
     "execution_count": 15,
     "metadata": {},
     "output_type": "execute_result"
    }
   ],
   "source": [
    "import csv\n",
    "\n",
    "# Initialize an empty dictionary to store the data\n",
    "trials_dict = {\n",
    "    'cdd_immed_amt': [],\n",
    "    'cdd_immed_wait': [],\n",
    "    'cdd_delay_amt': [],\n",
    "    'cdd_delay_wait': []\n",
    "}\n",
    "\n",
    "# Read the CSV file\n",
    "with open(participant_trials, mode='r') as csv_file:\n",
    "    csv_reader = csv.DictReader(csv_file)\n",
    "    for row in csv_reader:\n",
    "        # Check if the value is not empty before converting to an integer\n",
    "        if row['cdd_immed_amt']:\n",
    "            trials_dict['cdd_immed_amt'].append(int(row['cdd_immed_amt']))\n",
    "        if row['cdd_immed_wait']:\n",
    "            trials_dict['cdd_immed_wait'].append(int(row['cdd_immed_wait']))\n",
    "        if row['cdd_delay_amt']:\n",
    "            trials_dict['cdd_delay_amt'].append(int(row['cdd_delay_amt']))\n",
    "        if row['cdd_delay_wait']:\n",
    "            trials_dict['cdd_delay_wait'].append(int(row['cdd_delay_wait']))\n",
    "\n",
    "# Print the resulting dictionary\n",
    "immed_options = list(set(trials_dict['cdd_immed_amt']))\n",
    "ammt_del_options = list(set(trials_dict['cdd_delay_amt']))\n",
    "time_options = list(set(trials_dict['cdd_delay_wait']))"
   ]
  },
  {
   "cell_type": "code",
   "execution_count": null,
   "metadata": {},
   "outputs": [],
   "source": [
    "'''\n",
    "#First, let's read the ADO output for gains and losses and make it DataFrames\n",
    "patient_code = 'NIH_ADO_sample' #This is to keep the CSV in the same directories as the patient's data\n",
    "ado_out_gain = '/Volumes/UCDN/datasets/ICR/ado/sample_output_gain.csv'\n",
    "ado_out_loss = '/Volumes/UCDN/datasets/ICR/ado/sample_output_loss.csv'\n",
    "ado_out_gain_df = pd.read_csv(ado_out_gain, index_col=None)\n",
    "ado_out_loss_df = pd.read_csv(ado_out_loss, index_col=None)\n",
    "\n",
    "#Now, we extract the last row of the ADO. Those are going to be our parameters\n",
    "ado_gain_last_row = ado_out_gain_df.iloc[[-1]] \n",
    "ado_loss_last_row = ado_out_loss_df.iloc[[-1]] \n",
    "\n",
    "#Parameters for the gains\n",
    "alpha_pos, beta_pos = ado_gain_last_row[['mean_alpha','mean_beta']].values[0]\n",
    "\n",
    "#Parameters for the losses\n",
    "alpha_neg, beta_neg = ado_loss_last_row[['mean_alpha','mean_beta']].values[0]\n",
    "'''"
   ]
  },
  {
   "cell_type": "code",
   "execution_count": 18,
   "metadata": {},
   "outputs": [
    {
     "data": {
      "image/png": "[encoded data removed]",
      "text/plain": [
       "<Figure size 800x600 with 1 Axes>"
      ]
     },
     "metadata": {},
     "output_type": "display_data"
    }
   ],
   "source": [
    "import numpy as np\n",
    "import matplotlib.pyplot as plt\n",
    "\n",
    "# Define the values of k and d\n",
    "k = 0.812000836788582943\n",
    "d = np.linspace(0, 10, 100)  # Adjust the range and number of points as needed\n",
    "\n",
    "\n",
    "# Create an array of V values\n",
    "V = 100  # Adjust the range and number of points as needed\n",
    "\n",
    "# Calculate SV for each V value using the equation\n",
    "SV = V / (1 + k * d)\n",
    "\n",
    "# Create a plot\n",
    "plt.figure(figsize=(8, 6))\n",
    "plt.plot(d, SV, label='SV = V / (1 + kd)', color='b', linestyle='-')\n",
    "plt.xlabel('D')\n",
    "plt.ylabel('SV')\n",
    "plt.title('SV as a Function of V')\n",
    "plt.grid(True)\n",
    "plt.legend()\n",
    "plt.show()\n"
   ]
  }
 ],
 "metadata": {
  "kernelspec": {
   "display_name": "idm_env",
   "language": "python",
   "name": "python3"
  },
  "language_info": {
   "codemirror_mode": {
    "name": "ipython",
    "version": 3
   },
   "file_extension": ".py",
   "mimetype": "text/x-python",
   "name": "python",
   "nbconvert_exporter": "python",
   "pygments_lexer": "ipython3",
   "version": "3.9.17"
  },
  "orig_nbformat": 4
 },
 "nbformat": 4,
 "nbformat_minor": 2
}
