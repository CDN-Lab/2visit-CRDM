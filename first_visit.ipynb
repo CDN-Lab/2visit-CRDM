{
 "cells": [
  {
   "attachments": {},
   "cell_type": "markdown",
   "metadata": {},
   "source": [
    "# This script gets the trial of subjective equality from a single's participant choice data."
   ]
  },
  {
   "attachments": {},
   "cell_type": "markdown",
   "metadata": {
    "id": "nvwRKCexOqMI"
   },
   "source": [
    "0. Import the relevant packages"
   ]
  },
  {
   "cell_type": "code",
   "execution_count": 1,
   "metadata": {
    "executionInfo": {
     "elapsed": 268,
     "status": "ok",
     "timestamp": 1689258762241,
     "user": {
      "displayName": "Santiago Guardo",
      "userId": "11450914326493335688"
     },
     "user_tz": 240
    },
    "id": "5pA17ATgOvii"
   },
   "outputs": [],
   "source": [
    "import pandas as pd\n",
    "import os"
   ]
  },
  {
   "attachments": {},
   "cell_type": "markdown",
   "metadata": {
    "id": "uvtjJdvdEzjy"
   },
   "source": [
    "# 1. Input the participant's session id and retrieve the parameters from the utility model"
   ]
  },
  {
   "cell_type": "code",
   "execution_count": 11,
   "metadata": {
    "colab": {
     "base_uri": "https://localhost:8080/"
    },
    "executionInfo": {
     "elapsed": 2392,
     "status": "ok",
     "timestamp": 1689258805524,
     "user": {
      "displayName": "Santiago Guardo",
      "userId": "11450914326493335688"
     },
     "user_tz": 240
    },
    "id": "WZ13AUAEBm_H",
    "outputId": "e8429e66-1bb0-4fdb-9403-e74a07963bad"
   },
   "outputs": [
    {
     "name": "stdout",
     "output_type": "stream",
     "text": [
      "the Participant Code is 23_IDM_0021\n"
     ]
    }
   ],
   "source": [
    "participant_code = input (\"\")\n",
    "print('the Participant Code is ' + participant_code)\n"
   ]
  },
  {
   "cell_type": "code",
   "execution_count": 12,
   "metadata": {},
   "outputs": [
    {
     "name": "stdout",
     "output_type": "stream",
     "text": [
      "loading fn: /Volumes/UCDN/datasets/IDM/split/23_IDM_0021/crdm/23_IDM_0021_crdm.csv\n"
     ]
    }
   ],
   "source": [
    "#Define files & data pathway (Local Folder)\n",
    "# participant_code = '23_IDM_0021'\n",
    "split_dir = '/Volumes/UCDN/datasets/IDM/split/'\n",
    "participant_trials = os.path.join(split_dir,'{}/crdm/{}_crdm.csv'.format(participant_code,participant_code))\n",
    "print('loading fn: {}'.format(participant_trials))\n",
    "trials = pd.read_csv(participant_trials)\n",
    "parameters = pd.read_csv('csv/utility_CRDM_analysis.csv')"
   ]
  },
  {
   "cell_type": "code",
   "execution_count": 13,
   "metadata": {
    "colab": {
     "base_uri": "https://localhost:8080/"
    },
    "executionInfo": {
     "elapsed": 169,
     "status": "ok",
     "timestamp": 1689258839510,
     "user": {
      "displayName": "Santiago Guardo",
      "userId": "11450914326493335688"
     },
     "user_tz": 240
    },
    "id": "sQbQwqtzeNqT",
    "outputId": "7ae732fe-b870-4eb1-88a7-efba44d7b907"
   },
   "outputs": [
    {
     "name": "stdout",
     "output_type": "stream",
     "text": [
      "alpha: 0.495323857\n",
      "beta: 0.221680178\n",
      "gamma: 4.100226383\n"
     ]
    }
   ],
   "source": [
    "#Define the parameter values for the given participant. This declares the varaibles we are gonna work with\n",
    "# and gets the data from the CSV file\n",
    "filtered_parameters = parameters[parameters['subject'] == participant_code]\n",
    "\n",
    "alpha = filtered_parameters['alpha'].values[0]\n",
    "beta = filtered_parameters['beta'].values[0]\n",
    "gamma = filtered_parameters['gamma'].values[0]\n",
    "print (\"alpha: \" + str(alpha))\n",
    "print (\"beta: \" + str(beta))\n",
    "print (\"gamma: \" + str(gamma))"
   ]
  },
  {
   "attachments": {},
   "cell_type": "markdown",
   "metadata": {
    "id": "ufdoEGrQeoo7"
   },
   "source": [
    "# 2. The trial of subjective equality is that one with the lowest SV difference between the safe option and lottery option\n",
    "\n",
    "![](Softmax_formula.png)\n",
    "\n",
    "* We want to find the trial which has the closes p(choosing) to 0.50 (50%). That would be the trial that has the smallest SV difference betwwen the SVsafe and SValternative"
   ]
  },
  {
   "cell_type": "code",
   "execution_count": 14,
   "metadata": {},
   "outputs": [],
   "source": [
    "#We create a new column in the SV difference CSV to know which trial has the lowest SV difference (Local folder)\n",
    "utility_dir = '/Volumes/UCDN/datasets/IDM/utility'\n",
    "participants_SV = os.path.join(utility_dir,\"{}/crdm/{}_crdm_SV_hat.csv\".format(participant_code,participant_code))\n",
    "SV_delta = pd.read_csv(participants_SV)\n",
    "num_trials = SV_delta.shape[0]\n",
    "SV_delta['trial'] = range(1, num_trials + 1)\n",
    "SV_delta.to_csv('SVdelta_trials', index = False)"
   ]
  },
  {
   "cell_type": "code",
   "execution_count": 15,
   "metadata": {
    "colab": {
     "base_uri": "https://localhost:8080/"
    },
    "executionInfo": {
     "elapsed": 186,
     "status": "ok",
     "timestamp": 1689258926408,
     "user": {
      "displayName": "Santiago Guardo",
      "userId": "11450914326493335688"
     },
     "user_tz": 240
    },
    "id": "BY0XDmvFooZL",
    "outputId": "2dfa8b97-74b2-40f4-ad04-0ff1f03d841d"
   },
   "outputs": [
    {
     "name": "stdout",
     "output_type": "stream",
     "text": [
      "The trial closest to Subjective Equalitiy is trial #28\n"
     ]
    }
   ],
   "source": [
    "'''We compute the absolute value and assign it to a trial'''\n",
    "# Change1\n",
    "# Read the CSV file into a DataFrame\n",
    "data = pd.read_csv('SVdelta_trials')\n",
    "\n",
    "# Specify the column you want to analyze\n",
    "column_name = 'SV_delta'\n",
    "\n",
    "# Calculate the absolute values\n",
    "data['AbsoluteValue'] = data[column_name].abs()\n",
    "\n",
    "# Find the value with the least absolute value\n",
    "min_value = data[column_name].loc[data['AbsoluteValue'].idxmin()]\n",
    "\n",
    "#Knowing the lowest SV delta value, we look for the trial\n",
    "filtered_SV_delta = data[data['SV_delta'] == min_value]\n",
    "SE = filtered_SV_delta['trial'].values[0]\n",
    "print('The trial closest to Subjective Equalitiy is trial #' + str(SE))"
   ]
  },
  {
   "cell_type": "code",
   "execution_count": 16,
   "metadata": {
    "colab": {
     "base_uri": "https://localhost:8080/"
    },
    "executionInfo": {
     "elapsed": 152,
     "status": "ok",
     "timestamp": 1689258962611,
     "user": {
      "displayName": "Santiago Guardo",
      "userId": "11450914326493335688"
     },
     "user_tz": 240
    },
    "id": "r3x2mzVup_e-",
    "outputId": "42e9aa83-503d-423f-ae5a-d82204cb8e01"
   },
   "outputs": [
    {
     "name": "stderr",
     "output_type": "stream",
     "text": [
      "/var/folders/yx/fkwj2lbx3674djc_4jq5g8vnvntbk4/T/ipykernel_14964/4293071350.py:4: SettingWithCopyWarning: \n",
      "A value is trying to be set on a copy of a slice from a DataFrame.\n",
      "Try using .loc[row_indexer,col_indexer] = value instead\n",
      "\n",
      "See the caveats in the documentation: https://pandas.pydata.org/pandas-docs/stable/user_guide/indexing.html#returning-a-view-versus-a-copy\n",
      "  filtered_trials['trial'] = range(1, num_trials + 1)\n"
     ]
    }
   ],
   "source": [
    "#Now, we go to the trial CSV file to look up the structure of trial 28\n",
    "filtered_trials = trials.loc[trials['crdm_trial_type'] == 'task'] #We should add the new column without filtering first.\n",
    "num_trials = filtered_trials.shape[0]\n",
    "filtered_trials['trial'] = range(1, num_trials + 1)\n"
   ]
  },
  {
   "cell_type": "code",
   "execution_count": 17,
   "metadata": {
    "executionInfo": {
     "elapsed": 142,
     "status": "ok",
     "timestamp": 1689258964162,
     "user": {
      "displayName": "Santiago Guardo",
      "userId": "11450914326493335688"
     },
     "user_tz": 240
    },
    "id": "kaREJbnh4ZYW"
   },
   "outputs": [],
   "source": [
    "filtered_trials = trials.copy()  # Make a copy of the DataFrame\n",
    "\n",
    "filtered_trials.loc[filtered_trials['crdm_trial_type'] == 'task', 'trial'] = range(1, num_trials + 1)\n",
    "\n",
    "filtered_trials.to_csv('csv/trials_num.csv', index=False)  # Save DataFrame to a CSV file\n",
    "\n"
   ]
  },
  {
   "cell_type": "code",
   "execution_count": 18,
   "metadata": {
    "colab": {
     "base_uri": "https://localhost:8080/"
    },
    "executionInfo": {
     "elapsed": 4,
     "status": "ok",
     "timestamp": 1689258967057,
     "user": {
      "displayName": "Santiago Guardo",
      "userId": "11450914326493335688"
     },
     "user_tz": 240
    },
    "id": "yW7MdiVkrfPJ",
    "outputId": "63248b3f-3979-4c76-a20e-c1023f116577"
   },
   "outputs": [
    {
     "name": "stdout",
     "output_type": "stream",
     "text": [
      "Certain $5.0\n",
      "Lottery $20.0\n",
      "Probability of winning 50.0%\n",
      "Ambiguity level 0.0\n"
     ]
    }
   ],
   "source": [
    "#Let's find the structure of the subjective equality trial\n",
    "SE_trial = filtered_trials[filtered_trials['trial'] == SE]\n",
    "crdm_amb_lev = SE_trial['crdm_amb_lev'].values[0]\n",
    "crdm_sure_amt = SE_trial['crdm_sure_amt'].values[0]\n",
    "crdm_lott = SE_trial['crdm_lott_top'].values[0] + SE_trial['crdm_lott_bot'].values[0]\n",
    "prob = SE_trial ['crdm_lott_p'].values[0]\n",
    "\n",
    "#Confirm the identities\n",
    "print ('Certain $' + str(crdm_sure_amt))\n",
    "print (\"Lottery $\" + str(crdm_lott))\n",
    "print (\"Probability of winning \" + str(prob) + \"%\")\n",
    "print ('Ambiguity level ' + str(crdm_amb_lev))"
   ]
  },
  {
   "cell_type": "code",
   "execution_count": 19,
   "metadata": {},
   "outputs": [
    {
     "name": "stdout",
     "output_type": "stream",
     "text": [
      "   crdm_lott_amt  crdm_lott_p  crdm_amb_lev     alpha     beta     gamma\n",
      "0           20.0         50.0           0.0  0.495324  0.22168  4.100226\n"
     ]
    }
   ],
   "source": [
    "#Format it to the desired input\n",
    "cols = ['crdm_lott_amt', 'crdm_lott_p', 'crdm_amb_lev', 'alpha', 'beta', 'gamma']\n",
    "\n",
    "df_indif = pd.DataFrame([[crdm_lott, prob, crdm_amb_lev, alpha, beta, gamma]], columns= cols)\n",
    "print(df_indif)\n",
    "subject_SE = 'csv/subject_input.csv'\n",
    "df_indif.to_csv(subject_SE)"
   ]
  }
 ],
 "metadata": {
  "colab": {
   "authorship_tag": "ABX9TyNsM7DfrVfVIssbBpHNb4hF",
   "provenance": [
    {
     "file_id": "1JnEr84Sea-WFZsJApNPM209ym2sBaB0T",
     "timestamp": 1688409014729
    }
   ]
  },
  "kernelspec": {
   "display_name": "Python 3",
   "language": "python",
   "name": "python3"
  },
  "language_info": {
   "codemirror_mode": {
    "name": "ipython",
    "version": 3
   },
   "file_extension": ".py",
   "mimetype": "text/x-python",
   "name": "python",
   "nbconvert_exporter": "python",
   "pygments_lexer": "ipython3",
   "version": "3.11.3"
  },
  "vscode": {
   "interpreter": {
    "hash": "8217df094c15840ab0a75dca1e7a3567e85bef39404f33b20dcb3bb363dda79b"
   }
  }
 },
 "nbformat": 4,
 "nbformat_minor": 1
}
